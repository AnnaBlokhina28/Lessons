{
 "cells": [
  {
   "cell_type": "markdown",
   "id": "86618196",
   "metadata": {},
   "source": [
    "<font color=\"#56a7cf\"><h1><b>Урок 7. Непараметрические тесты</b></h1></font>"
   ]
  },
  {
   "cell_type": "markdown",
   "id": "3bb7d730",
   "metadata": {},
   "source": [
    "<font color=\"#56a7cf\"><h2><b>Формулы</b></h2></font>"
   ]
  },
  {
   "cell_type": "code",
   "execution_count": 1,
   "id": "1ab278a1",
   "metadata": {},
   "outputs": [],
   "source": [
    "import warnings\n",
    "import pandas as pd\n",
    "import numpy as np\n",
    "import scipy.stats as stats\n",
    "import math"
   ]
  },
  {
   "cell_type": "markdown",
   "id": "73c03b55",
   "metadata": {},
   "source": [
    "<font color=\"#56a7cf\"><h2><b>Задача 1</b></h2></font>\n",
    "\n",
    "Даны две независимые выборки. Не соблюдается условие нормальности\n",
    "x1 380,420, 290\n",
    "y1 140,360,200,900\n",
    "Сделайте вывод по результатам, полученным с помощью функции\n",
    "\n",
    "Решение: Так как выборки 2 и они независимые используем кретерий Манна-Уитни\n",
    "H0 - выборки статистически одинаковые\n",
    "H1 - выборки разные\n",
    "\n",
    "Вывод:pvalue>alpha, H0 - не отвергается с ошибкой alpha = 0.05, выборки статичтически одинаковые"
   ]
  },
  {
   "cell_type": "code",
   "execution_count": 2,
   "id": "18dc2ccf",
   "metadata": {},
   "outputs": [
    {
     "data": {
      "text/plain": [
       "MannwhitneyuResult(statistic=8.0, pvalue=0.6285714285714286)"
      ]
     },
     "execution_count": 2,
     "metadata": {},
     "output_type": "execute_result"
    }
   ],
   "source": [
    "X = np.array([380,420,290])\n",
    "Y = np.array([140,360,200,900])\n",
    "\n",
    "stats.mannwhitneyu(X,Y)"
   ]
  },
  {
   "cell_type": "markdown",
   "id": "36dc7b86",
   "metadata": {},
   "source": [
    "<font color=\"#56a7cf\"><h2><b>Задача 2</b></h2></font>\n",
    "\n",
    "Исследовалось влияние препарата на уровень давления пациентов. Сначала\n",
    "измерялось давление до приема препарата, потом через 10 минут и через 30 минут. Есть\n",
    "ли статистически значимые различия?\n",
    "1е измерение до приема препарата: 150, 160, 165, 145, 155\n",
    "2е измерение через 10 минут: 140, 155, 150, 130, 135\n",
    "3е измерение через 30 минут: 130, 130, 120, 130, 125\n",
    "\n",
    "Решение: Так как выборок больше двух - 3 и они зависимые(пациенты одни и те же) используем кретерий Фридмана\n",
    "H0 - различий нет, препарат не действует\n",
    "H1 - различия есть, препарат имеет действия на пациентов\n",
    "\n",
    "Вывод:pvalue<alpha, H0 - отвергается с ошибкой alpha = 0.05, принимается гипотиза Н1 - различия есть, препарат имеет действия на пациентов"
   ]
  },
  {
   "cell_type": "code",
   "execution_count": 3,
   "id": "526d6c0d",
   "metadata": {},
   "outputs": [
    {
     "data": {
      "text/plain": [
       "FriedmanchisquareResult(statistic=9.578947368421062, pvalue=0.00831683351100441)"
      ]
     },
     "execution_count": 3,
     "metadata": {},
     "output_type": "execute_result"
    }
   ],
   "source": [
    "X0 = np.array ([150, 160, 165, 145, 155])\n",
    "X10 = np.array ([140, 155, 150, 130, 135])\n",
    "X30 = np.array ([130, 130, 120, 130, 125])\n",
    "\n",
    "stats.friedmanchisquare(X0,X10,X30)"
   ]
  },
  {
   "cell_type": "markdown",
   "id": "4bca5607",
   "metadata": {},
   "source": [
    "<font color=\"#56a7cf\"><h2><b>Задача 3</b></h2></font>\n",
    "\n",
    "Сравните 1 и 2 е измерения, предполагая, что 3го измерения через 30 минут не было.\n",
    "\n",
    "Решение: Так как выборок 2 и они зависимые(пациенты одни и те же) используем кретерий Уимкоксона\n",
    "H0 - различий нет, препарат не действует\n",
    "H1 - различия есть, препарат имеет действия на пациентов\n",
    "\n",
    "Вывод:pvalue>alpha, H0 - не отвергается с ошибкой alpha = 0.05, различий нет, препарат не действует"
   ]
  },
  {
   "cell_type": "code",
   "execution_count": 4,
   "id": "2fc5aacd",
   "metadata": {},
   "outputs": [
    {
     "data": {
      "text/plain": [
       "WilcoxonResult(statistic=0.0, pvalue=0.0625)"
      ]
     },
     "execution_count": 4,
     "metadata": {},
     "output_type": "execute_result"
    }
   ],
   "source": [
    "Y0 = np.array ([150, 160, 165, 145, 155])\n",
    "Y10 = np.array ([140, 155, 150, 130, 135])\n",
    "\n",
    "stats.wilcoxon(Y0,Y10)"
   ]
  },
  {
   "cell_type": "markdown",
   "id": "adb50e0e",
   "metadata": {},
   "source": [
    "<font color=\"#56a7cf\"><h2><b>Задача 4</b></h2></font>\n",
    "\n",
    "Даны 3 группы учеников плавания.\n",
    "В 1 группе время на дистанцию 50 м составляют:\n",
    "56, 60, 62, 55, 71, 67, 59, 58, 64, 67\n",
    "Вторая группа : 57, 58, 69, 48, 72, 70, 68, 71, 50, 53\n",
    "Третья группа: 57, 67, 49, 48, 47, 55, 66, 51, 54\n",
    "\n",
    "Решение: Так как выборок 3 и они независимые используем кретерий Крускала-Уоллиса\n",
    "H0 - все группы одинаково справляются с дистанцией\n",
    "H1 - есть различия.\n",
    "\n",
    "Вывод:pvalue>alpha, H0 - не отвергается с ошибкой alpha = 0.05, различий нет, группы статистически равны"
   ]
  },
  {
   "cell_type": "code",
   "execution_count": 5,
   "id": "e03e113c",
   "metadata": {},
   "outputs": [
    {
     "data": {
      "text/plain": [
       "KruskalResult(statistic=5.465564058257224, pvalue=0.0650380998590494)"
      ]
     },
     "execution_count": 5,
     "metadata": {},
     "output_type": "execute_result"
    }
   ],
   "source": [
    "gr1 = np.array ([56, 60, 62, 55, 71, 67, 59, 58, 64, 67])\n",
    "gr2 = np.array ([57, 58, 69, 48, 72, 70, 68, 71, 50, 53])\n",
    "gr3 = np.array ([57, 67, 49, 48, 47, 55, 66, 51, 54])\n",
    "\n",
    "stats.kruskal(gr1,gr2,gr3)"
   ]
  },
  {
   "cell_type": "markdown",
   "id": "29653572",
   "metadata": {},
   "source": [
    "<font color=\"#56a7cf\"><h2><b>Задача 5</b></h2></font>\n",
    "\n",
    "Заявляется, что партия изготавливается со средним арифметическим 2,5 см. Проверить\n",
    "данную гипотезу, если известно, что размеры изделий подчинены нормальному закону\n",
    "распределения. Объем выборки 10, уровень статистической значимости 5%\n",
    "2.51, 2.35, 2.74, 2.56, 2.40, 2.36, 2.65, 2.7, 2.67, 2.34\n",
    "\n",
    "Решение:\n",
    "H0: M=M0(2.5)\n",
    "H1: M=!M0(2.5)\n",
    "Найдем t - наблюдаемое, через критерий Стюдента\n",
    "\n",
    "Ответ:гипотиза H0 не отвергается с ошибкой alpha = 0.05, так как наблюдаемое значение не попадает в кретическую область меньше -2.262 и больше 2.262. Можно утверждать, что среднее арифметическое 2.5"
   ]
  },
  {
   "cell_type": "code",
   "execution_count": 6,
   "id": "97ad8706",
   "metadata": {},
   "outputs": [
    {
     "name": "stdout",
     "output_type": "stream",
     "text": [
      "t-наблюдаемая = 0.5630613661802959\n",
      "t-критическая t1 = -2.262, t2 =2.262\n"
     ]
    }
   ],
   "source": [
    "X = np.array([2.51, 2.35, 2.74, 2.56, 2.40, 2.36, 2.65, 2.7, 2.67, 2.34])\n",
    "mean = 2.5\n",
    "n = len(X)\n",
    "alpha = 0.05\n",
    "meanX = sum(X)/n\n",
    "\n",
    "#Несмещенная дисперия\n",
    "SumX = []\n",
    "for i in X:\n",
    "    SumX.append((i-meanX)**2)\n",
    "D = sum(SumX)/(n-1)\n",
    "\n",
    "sigmaX = math.sqrt(D)\n",
    "\n",
    "tfact = (meanX-mean)/(sigmaX/math.sqrt(n))\n",
    "print(f't-наблюдаемая = {tfact}')\n",
    "stfreedom = n-1\n",
    "t1 =-2.262\n",
    "t2 = 2.262\n",
    "#t1 = stats.t.ppf((1-alpha/2),df=stfreedom)\n",
    "#t2 = stats.t.ppf((alpha/2),df=stfreedom)\n",
    "print(f't-критическая t1 = {t1}, t2 ={t2}')"
   ]
  }
 ],
 "metadata": {
  "hide_input": false,
  "kernelspec": {
   "display_name": "Python 3 (ipykernel)",
   "language": "python",
   "name": "python3"
  },
  "language_info": {
   "codemirror_mode": {
    "name": "ipython",
    "version": 3
   },
   "file_extension": ".py",
   "mimetype": "text/x-python",
   "name": "python",
   "nbconvert_exporter": "python",
   "pygments_lexer": "ipython3",
   "version": "3.9.2"
  },
  "toc": {
   "base_numbering": 1,
   "nav_menu": {},
   "number_sections": false,
   "sideBar": true,
   "skip_h1_title": false,
   "title_cell": "Table of Contents",
   "title_sidebar": "Contents",
   "toc_cell": false,
   "toc_position": {},
   "toc_section_display": true,
   "toc_window_display": true
  },
  "varInspector": {
   "cols": {
    "lenName": 16,
    "lenType": 16,
    "lenVar": 40
   },
   "kernels_config": {
    "python": {
     "delete_cmd_postfix": "",
     "delete_cmd_prefix": "del ",
     "library": "var_list.py",
     "varRefreshCmd": "print(var_dic_list())"
    },
    "r": {
     "delete_cmd_postfix": ") ",
     "delete_cmd_prefix": "rm(",
     "library": "var_list.r",
     "varRefreshCmd": "cat(var_dic_list()) "
    }
   },
   "types_to_exclude": [
    "module",
    "function",
    "builtin_function_or_method",
    "instance",
    "_Feature"
   ],
   "window_display": false
  }
 },
 "nbformat": 4,
 "nbformat_minor": 5
}
