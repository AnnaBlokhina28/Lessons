{
 "cells": [
  {
   "cell_type": "markdown",
   "id": "d8ce2b50",
   "metadata": {},
   "source": [
    "<font color=\"#56a7cf\"><h2><b>Формулы</b></h2></font>"
   ]
  },
  {
   "cell_type": "code",
   "execution_count": 1,
   "id": "da271f3e",
   "metadata": {},
   "outputs": [],
   "source": [
    "import math\n",
    "from math import factorial as f\n",
    "\n",
    "def C(n, k):\n",
    "    return f(n) / (f(k) * f(n-k))\n",
    "\n",
    "def Bernoulli(n, k, p):\n",
    "    q=1-p\n",
    "    return C(n, k)*(p**k)*(q**(n-k))\n",
    "\n",
    "def Poisson(m,lmd):\n",
    "    return (lmd**m/math.factorial(m))*math.e**-lmd"
   ]
  },
  {
   "cell_type": "markdown",
   "id": "0e8c8a4f",
   "metadata": {},
   "source": [
    "<font color=\"#56a7cf\"><h2><b>Задание 1</b></h2></font>\n",
    "\n",
    "Вероятность того, что стрелок попадет в мишень, выстрелив один раз, равна 0.8. Стрелок выстрелил 100 раз. \n",
    "Найдите вероятность того, что стрелок попадет в цель ровно 85 раз.\n",
    "\n",
    "Решение: Вероятность 0.8 - большая, используем формулу Бернулли."
   ]
  },
  {
   "cell_type": "code",
   "execution_count": 2,
   "id": "f1b85464",
   "metadata": {},
   "outputs": [
    {
     "name": "stdout",
     "output_type": "stream",
     "text": [
      "Ответ 0.048061793700746355\n"
     ]
    }
   ],
   "source": [
    "p=0.8\n",
    "k=85\n",
    "n=100\n",
    "Answer = Bernoulli(n, k, p)\n",
    "print(f\"Ответ {Answer}\")"
   ]
  },
  {
   "cell_type": "markdown",
   "id": "6f1dfc77",
   "metadata": {},
   "source": [
    "<font color=\"#56a7cf\"><h2><b>Задание 2</b></h2></font>\n",
    "\n",
    "Вероятность того, что лампочка перегорит в течение первого дня эксплуатации, равна 0.0004. \n",
    "В жилом комплексе после ремонта в один день включили\n",
    "5000 новых лампочек. Какова вероятность, что ни одна из них не перегорит в первый день?\n",
    "Какова вероятность, что перегорят ровно две?\n",
    "\n",
    "Решение: Вероятность маленька - 0,0004, число испытаний большое-5000, используем формулу Пуассона"
   ]
  },
  {
   "cell_type": "code",
   "execution_count": 3,
   "id": "c37e75b1",
   "metadata": {},
   "outputs": [
    {
     "name": "stdout",
     "output_type": "stream",
     "text": [
      "2.1 Ответ 0.1353352832366127\n",
      "2.2 Ответ 0.2706705664732254\n"
     ]
    }
   ],
   "source": [
    "#2.1\n",
    "n=5000\n",
    "p=0.0004\n",
    "lmd = n*p\n",
    "Answer = Poisson(0,lmd)\n",
    "print(f\"2.1 Ответ {Answer}\")\n",
    "\n",
    "#2.2\n",
    "Answer2 = Poisson(2,lmd)\n",
    "print(f\"2.2 Ответ {Answer2}\")"
   ]
  },
  {
   "cell_type": "markdown",
   "id": "6e875c6b",
   "metadata": {},
   "source": [
    "<font color=\"#56a7cf\"><h2><b>Задание 3</b></h2></font>\n",
    "\n",
    "Монету подбросили 144 раза. Какова вероятность, что орел выпадет ровно 70 раз?\n",
    "\n",
    "Решение:Вероятность большая-0.5 - используем формулу Бернулли"
   ]
  },
  {
   "cell_type": "code",
   "execution_count": 4,
   "id": "851f55ff",
   "metadata": {},
   "outputs": [
    {
     "name": "stdout",
     "output_type": "stream",
     "text": [
      "Ответ 0.06281178035144776\n"
     ]
    }
   ],
   "source": [
    "p=0.5\n",
    "k=70\n",
    "n=144\n",
    "Answer = Bernoulli(n, k, p)\n",
    "print(f\"Ответ {Answer}\")"
   ]
  },
  {
   "cell_type": "markdown",
   "id": "301e7527",
   "metadata": {},
   "source": [
    "<font color=\"#56a7cf\"><h2><b>Задание 4</b></h2></font>\n",
    "\n",
    "В первом ящике находится 10 мячей, из которых 7 - белые. Во втором ящике - 11 мячей, из которых 9 белых.\n",
    "Из каждого ящика вытаскивают случайным образом по два мяча. Какова вероятность того, что все мячи белые?\n",
    "Какова вероятность того, что ровно два мяча белые?\n",
    "Какова вероятность того, что хотя бы один мяч белый?\n",
    "\n",
    "Решение:"
   ]
  },
  {
   "cell_type": "code",
   "execution_count": 5,
   "id": "74224585",
   "metadata": {},
   "outputs": [
    {
     "name": "stdout",
     "output_type": "stream",
     "text": [
      "4.1 Ответ P(A) = 0.3054545454545455\n"
     ]
    }
   ],
   "source": [
    "#4.1\n",
    "\n",
    "n=C(10,2)*C(11,2)\n",
    "m=C(7,2)*C(9,2)\n",
    "P = m/n\n",
    "print(f\"4.1 Ответ P(A) = {P}\")"
   ]
  },
  {
   "cell_type": "code",
   "execution_count": 6,
   "id": "9191b50d",
   "metadata": {},
   "outputs": [
    {
     "name": "stdout",
     "output_type": "stream",
     "text": [
      "4.2 Ответ P(A) = 0.20484848484848484\n"
     ]
    }
   ],
   "source": [
    "#4.2\n",
    "\n",
    "n = C(10,2)*C(11,2)\n",
    "m = C(7,2)*C(2,2)+C(7,1)*C(3,1)*C(2,1)*C(9,1)+C(3,2)*C(9,2)\n",
    "P = m/n\n",
    "print(f\"4.2 Ответ P(A) = {P}\")"
   ]
  },
  {
   "cell_type": "code",
   "execution_count": 7,
   "id": "80379fbc",
   "metadata": {},
   "outputs": [
    {
     "name": "stdout",
     "output_type": "stream",
     "text": [
      "4.3 Ответ P(A) = 0.9987878787878788\n"
     ]
    }
   ],
   "source": [
    "#4.3\n",
    "\n",
    "notn =C(10,2)*C(11,2)\n",
    "notm = C(3,2)*C(2,2)\n",
    "notP = notm/notn\n",
    "P = 1- notP\n",
    "print(f\"4.3 Ответ P(A) = {P}\")"
   ]
  }
 ],
 "metadata": {
  "hide_input": false,
  "kernelspec": {
   "display_name": "Python 3 (ipykernel)",
   "language": "python",
   "name": "python3"
  },
  "language_info": {
   "codemirror_mode": {
    "name": "ipython",
    "version": 3
   },
   "file_extension": ".py",
   "mimetype": "text/x-python",
   "name": "python",
   "nbconvert_exporter": "python",
   "pygments_lexer": "ipython3",
   "version": "3.9.2"
  },
  "toc": {
   "base_numbering": 1,
   "nav_menu": {},
   "number_sections": false,
   "sideBar": true,
   "skip_h1_title": false,
   "title_cell": "Table of Contents",
   "title_sidebar": "Contents",
   "toc_cell": false,
   "toc_position": {},
   "toc_section_display": true,
   "toc_window_display": true
  },
  "varInspector": {
   "cols": {
    "lenName": 16,
    "lenType": 16,
    "lenVar": 40
   },
   "kernels_config": {
    "python": {
     "delete_cmd_postfix": "",
     "delete_cmd_prefix": "del ",
     "library": "var_list.py",
     "varRefreshCmd": "print(var_dic_list())"
    },
    "r": {
     "delete_cmd_postfix": ") ",
     "delete_cmd_prefix": "rm(",
     "library": "var_list.r",
     "varRefreshCmd": "cat(var_dic_list()) "
    }
   },
   "types_to_exclude": [
    "module",
    "function",
    "builtin_function_or_method",
    "instance",
    "_Feature"
   ],
   "window_display": false
  }
 },
 "nbformat": 4,
 "nbformat_minor": 5
}
