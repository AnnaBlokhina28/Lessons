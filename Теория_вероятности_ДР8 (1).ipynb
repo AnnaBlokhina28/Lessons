{
 "cells": [
  {
   "cell_type": "markdown",
   "id": "85b39841",
   "metadata": {},
   "source": [
    "<font color=\"#56a7cf\"><h1><b>Урок 8. Корреляционный анализ</b></h1></font>"
   ]
  },
  {
   "cell_type": "markdown",
   "id": "bdf71928",
   "metadata": {},
   "source": [
    "<font color=\"#56a7cf\"><h2><b>Формулы</b></h2></font>"
   ]
  },
  {
   "cell_type": "code",
   "execution_count": 1,
   "id": "4798330b",
   "metadata": {},
   "outputs": [],
   "source": [
    "import warnings\n",
    "import pandas as pd\n",
    "import numpy as np\n",
    "import scipy.stats as stats\n",
    "import math"
   ]
  },
  {
   "cell_type": "markdown",
   "id": "15336909",
   "metadata": {},
   "source": [
    "<font color=\"#56a7cf\"><h2><b>Задача 1</b></h2></font>\n",
    "\n",
    "Даны значения величины заработной платы заемщиков банка (zp) и значения их\n",
    "поведенческого кредитного скоринга (ks):\n",
    "zp = [35, 45, 190, 200, 40, 70, 54, 150, 120, 110],\n",
    "ks = [401, 574, 874, 919, 459, 739, 653, 902, 746, 832].\n",
    "Найдите ковариацию этих двух величин с помощью элементарных действий, а затем с\n",
    "помощью функции cov из numpy\n",
    "Полученные значения должны быть равны.\n",
    "Найдите коэффициент корреляции Пирсона с помощью ковариации и\n",
    "среднеквадратичных отклонений двух признаков,\n",
    "а затем с использованием функций из библиотек numpy и pandas."
   ]
  },
  {
   "cell_type": "code",
   "execution_count": 2,
   "id": "f3cb6b62",
   "metadata": {},
   "outputs": [
    {
     "name": "stdout",
     "output_type": "stream",
     "text": [
      "Ковариация по формуле = 9157.839999999997\n",
      "Ковариация с использование функций = [[ 3494.64  9157.84]\n",
      " [ 9157.84 30468.89]]\n",
      "Коэффициент корреляции Пирсона по формуле = 0.8874900920739158\n",
      "Коэффициент корреляции Пирсона с использование функций = [[1.         0.88749009]\n",
      " [0.88749009 1.        ]]\n"
     ]
    }
   ],
   "source": [
    "zp = np.array([35, 45, 190, 200, 40, 70, 54, 150, 120, 110])\n",
    "ks = np.array([401, 574, 874, 919, 459, 739, 653, 902, 746, 832])\n",
    "\n",
    "#Найдем ковариацию по формуле covxy = M(XY) − M(X) ∗ M(Y)\n",
    "cov1 = np.mean(zp*ks)-np.mean(zp)*np.mean(ks)\n",
    "print(f'Ковариация по формуле = {cov1}')\n",
    "cov2 = np.cov(zp,ks, ddof=0)\n",
    "print(f'Ковариация с использование функций = {cov2}')\n",
    "\n",
    "#Найдем коэффициент корреляции Пирсона по формуле 𝑟𝑥𝑦 =𝑐𝑜𝑣𝑥𝑦/𝞼𝑥 ∗ 𝞼y\n",
    "\n",
    "Rzp_ks1 = cov1/(np.std(zp,ddof=0)*np.std(ks,ddof=0))\n",
    "print(f'Коэффициент корреляции Пирсона по формуле = {Rzp_ks1}')\n",
    "Rzp_ks2 = np.corrcoef(zp,ks)\n",
    "print(f'Коэффициент корреляции Пирсона с использование функций = {Rzp_ks2}')"
   ]
  },
  {
   "cell_type": "markdown",
   "id": "fadd7599",
   "metadata": {},
   "source": [
    "<font color=\"#56a7cf\"><h2><b>Задача 2</b></h2></font>\n",
    "\n",
    "Измерены значения IQ выборки студентов,\n",
    "обучающихся в местных технических вузах:\n",
    "131, 125, 115, 122, 131, 115, 107, 99, 125, 111.\n",
    "Известно, что в генеральной совокупности IQ распределен нормально.\n",
    "Найдите доверительный интервал для математического ожидания с надежностью 0.95."
   ]
  },
  {
   "cell_type": "code",
   "execution_count": 3,
   "id": "21b76a68",
   "metadata": {},
   "outputs": [
    {
     "name": "stdout",
     "output_type": "stream",
     "text": [
      "118.1\n",
      "111.21111111111111\n",
      "-2.262157162740992\n",
      "Ответ:Доверительный интервал для матиматического ожидания с надежностью 0.95 - (110.55608365158724 ; 125.64391634841274)\n"
     ]
    }
   ],
   "source": [
    "IQ = np.array([131, 125, 115, 122, 131, 115, 107, 99, 125, 111])\n",
    "n = len(IQ)\n",
    "alpha = 0.05\n",
    "meanIQ = IQ.mean()\n",
    "D = IQ.var(ddof=1)\n",
    "sigma = D**0.5\n",
    "t = stats.t.ppf(alpha/2, df=n-1)\n",
    "x1 = meanIQ -(t*(sigma/n**0.5))\n",
    "x2 = meanIQ +(t*(sigma/n**0.5))\n",
    "print(meanIQ)\n",
    "print(D)\n",
    "print(t)\n",
    "print( f'Ответ:Доверительный интервал для матиматического ожидания с надежностью 0.95 - ({x2} ; {x1})')"
   ]
  },
  {
   "cell_type": "markdown",
   "id": "cb302108",
   "metadata": {},
   "source": [
    "<font color=\"#56a7cf\"><h2><b>Задача 3</b></h2></font>\n",
    "\n",
    "Известно, что рост футболистов в сборной распределен нормально\n",
    "с дисперсией генеральной совокупности, равной 25 кв.см. Объем выборки равен 27,\n",
    "среднее выборочное составляет 174.2. Найдите доверительный интервал для\n",
    "математического\n",
    "ожидания с надежностью 0.95."
   ]
  },
  {
   "cell_type": "code",
   "execution_count": 4,
   "id": "619ba997",
   "metadata": {},
   "outputs": [
    {
     "name": "stdout",
     "output_type": "stream",
     "text": [
      "-1.9599639845400545\n",
      "Ответ:Доверительный интервал для математического ожидания с надежностью 0.95- (172.3140237765397 ; 176.08597622346028)\n"
     ]
    }
   ],
   "source": [
    "D=25\n",
    "sigma = D**0.5\n",
    "n=27\n",
    "alpha = 0.05\n",
    "mean = 174.2\n",
    "Z = stats.norm.ppf(alpha/2)\n",
    "print(Z)\n",
    "x1 = mean -(Z*(sigma/n**0.5))\n",
    "x2 = mean +(Z*(sigma/n**0.5))\n",
    "print( f'Ответ:Доверительный интервал для математического ожидания с надежностью 0.95- ({x2} ; {x1})')"
   ]
  }
 ],
 "metadata": {
  "hide_input": false,
  "kernelspec": {
   "display_name": "Python 3 (ipykernel)",
   "language": "python",
   "name": "python3"
  },
  "language_info": {
   "codemirror_mode": {
    "name": "ipython",
    "version": 3
   },
   "file_extension": ".py",
   "mimetype": "text/x-python",
   "name": "python",
   "nbconvert_exporter": "python",
   "pygments_lexer": "ipython3",
   "version": "3.9.2"
  },
  "toc": {
   "base_numbering": 1,
   "nav_menu": {},
   "number_sections": false,
   "sideBar": true,
   "skip_h1_title": false,
   "title_cell": "Table of Contents",
   "title_sidebar": "Contents",
   "toc_cell": false,
   "toc_position": {},
   "toc_section_display": true,
   "toc_window_display": true
  },
  "varInspector": {
   "cols": {
    "lenName": 16,
    "lenType": 16,
    "lenVar": 40
   },
   "kernels_config": {
    "python": {
     "delete_cmd_postfix": "",
     "delete_cmd_prefix": "del ",
     "library": "var_list.py",
     "varRefreshCmd": "print(var_dic_list())"
    },
    "r": {
     "delete_cmd_postfix": ") ",
     "delete_cmd_prefix": "rm(",
     "library": "var_list.r",
     "varRefreshCmd": "cat(var_dic_list()) "
    }
   },
   "types_to_exclude": [
    "module",
    "function",
    "builtin_function_or_method",
    "instance",
    "_Feature"
   ],
   "window_display": false
  }
 },
 "nbformat": 4,
 "nbformat_minor": 5
}
