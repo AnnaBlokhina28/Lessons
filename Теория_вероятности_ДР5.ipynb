{
 "cells": [
  {
   "cell_type": "markdown",
   "id": "619ad9c8",
   "metadata": {},
   "source": [
    "<font color=\"#56a7cf\"><h2><b>Формулы</b></h2></font>"
   ]
  },
  {
   "cell_type": "code",
   "execution_count": 1,
   "id": "93f8440a",
   "metadata": {},
   "outputs": [],
   "source": [
    "import warnings\n",
    "import pandas as pd\n",
    "import numpy as np\n",
    "import scipy.stats as stats\n",
    "import math"
   ]
  },
  {
   "cell_type": "markdown",
   "id": "645ee007",
   "metadata": {},
   "source": [
    "<font color=\"#56a7cf\"><h2><b>Задача 1</b></h2></font>\n",
    "\n",
    "Когда используется критерий Стьюдента, а когда Z –критерий?\n",
    "\n",
    "Ответ:\n",
    "\n",
    "Z –критерий используется, когда известна Сигма генеральной совокупности, если она не изветсна то испольуют критерий Стьюдента"
   ]
  },
  {
   "cell_type": "markdown",
   "id": "43b47fbc",
   "metadata": {},
   "source": [
    "<font color=\"#56a7cf\"><h2><b>Задача 2</b></h2></font>\n",
    "\n",
    "Проведите тест гипотезы. Утверждается, что шарики для подшипников, изготовленные\n",
    "автоматическим станком, имеют средний диаметр 17 мм.\n",
    "Используя односторонний критерий с α=0,05, проверить эту гипотезу, если в выборке из\n",
    "n=100 шариков средний диаметр\n",
    "оказался равным 17.5 мм, а дисперсия известна и равна 4 кв. мм.\n",
    "\n",
    "Решение:\n",
    "H0: M=M0\n",
    "Н1: M>M0\n",
    "Известна дисперсия генеральной совокупности, можем найти Сигму, t - наблюдаемое ищим через z критерий\n",
    "Если t-наб = 2.5\n",
    "     t-кр = 1.6449\n",
    "     t-наб>t-кр. Можем сделать вывод, что гипотеза H0  не верная, её отвергают с ошибкой 0.05"
   ]
  },
  {
   "cell_type": "code",
   "execution_count": 2,
   "id": "36580138",
   "metadata": {},
   "outputs": [
    {
     "name": "stdout",
     "output_type": "stream",
     "text": [
      "t-наблюдаемая = 2.5\n",
      "t-критическая = 1.6448536269514722\n"
     ]
    }
   ],
   "source": [
    "M = 17.5\n",
    "M0 = 17\n",
    "n = 100\n",
    "D = 4\n",
    "p = 0.95\n",
    "\n",
    "alpha = 1-p\n",
    "sigma = D**0.5\n",
    "\n",
    "Z = (M-M0)/(sigma/n**0.5)\n",
    "stfreedom = n-1\n",
    "t1 = stats.norm.ppf(1-alpha)\n",
    "#tкритическое из таблицы степень свободы 99,Сигма 0,05 =1.984???\n",
    "print(f't-наблюдаемая = {Z}')\n",
    "print(f't-критическая = {t1}')"
   ]
  },
  {
   "cell_type": "markdown",
   "id": "52423519",
   "metadata": {},
   "source": [
    "<font color=\"#56a7cf\"><h2><b>Задача 3</b></h2></font>\n",
    "\n",
    "Проведите тест гипотезы. Продавец утверждает, что средний вес пачки печенья\n",
    "составляет 200 г.\n",
    "Из партии извлечена выборка из 10 пачек. Вес каждой пачки составляет:\n",
    "202, 203, 199, 197, 195, 201, 200, 204, 194, 190.\n",
    "Известно, что их веса распределены нормально.\n",
    "Верно ли утверждение продавца, если учитывать, что доверительная вероятность равна\n",
    "99%? (Провести двусторонний тест.)\n",
    "\n",
    "Решение:\n",
    "H0: M=M0\n",
    "H1: M=!M0\n",
    "Найдем t - наблюдаемое, через критерий Стюдента\n",
    "\n",
    "Ответ:гипотиза H0 не отвергается, так как наблюдаемое значение не попадает в кретическую область  "
   ]
  },
  {
   "cell_type": "code",
   "execution_count": 3,
   "id": "2dfeb4dc",
   "metadata": {},
   "outputs": [
    {
     "name": "stdout",
     "output_type": "stream",
     "text": [
      "t-наблюдаемая = -1.0651074037450896\n",
      "t-критическая t1 = -3.25, t2 =3.25\n"
     ]
    }
   ],
   "source": [
    "choice = (202, 203, 199, 197, 195, 201, 200, 204, 194, 190)\n",
    "M0 = 200\n",
    "p = 0.99\n",
    "alpha = 1-p\n",
    "n = len(choice)\n",
    "M = sum(choice)/n\n",
    "Sumchoice = []\n",
    "for i in choice:\n",
    "    Sumchoice.append((i-M)**2)\n",
    "#Несмещенная дисперия\n",
    "D = sum(Sumchoice)/(n-1)\n",
    "sigma = math.sqrt(D)\n",
    "tfact = (M-M0)/(sigma/math.sqrt(n))\n",
    "print(f't-наблюдаемая = {tfact}')\n",
    "stfreedom = n-1\n",
    "t1 =-3.25\n",
    "t2 = 3.25\n",
    "print(f't-критическая t1 = {t1}, t2 ={t2}')"
   ]
  },
  {
   "cell_type": "markdown",
   "id": "66c5f81d",
   "metadata": {},
   "source": [
    "<font color=\"#56a7cf\"><h2><b>Задача 4</b></h2></font>\n",
    "\n",
    "Есть ли статистически значимые различия в росте\n",
    "дочерей?\n",
    "Рост матерей 172, 177, 158, 170, 178,175, 164, 160, 169, 165\n",
    "Рост взрослых дочерей: 173, 175, 162, 174, 175, 168, 155, 170, 160, 163\n",
    "    \n",
    "Решение:Дан двувыборочный тест с зависимыми выборками, так как есть генитичекая связь\n",
    "\n",
    "Ответ:Статистических значимых различий в росте дочерей нет, так как t-наблюдаемое = 0.6648 и оно не входит в кретическую область -2.10<0.6648 и 0.6648<2.10\n"
   ]
  },
  {
   "cell_type": "code",
   "execution_count": 4,
   "id": "6d1254fa",
   "metadata": {},
   "outputs": [
    {
     "data": {
      "text/plain": [
       "Ttest_relResult(statistic=0.664847853143198, pvalue=0.5228168632983574)"
      ]
     },
     "execution_count": 4,
     "metadata": {},
     "output_type": "execute_result"
    }
   ],
   "source": [
    "mothers = np.array([172, 177, 158, 170, 178,175, 164, 160, 169, 165])\n",
    "daughters = np.array([173, 175, 162, 174, 175, 168, 155, 170, 160, 163])\n",
    "stats.ttest_rel(mothers,daughters)"
   ]
  },
  {
   "cell_type": "code",
   "execution_count": 5,
   "id": "5e2b7616",
   "metadata": {},
   "outputs": [
    {
     "name": "stdout",
     "output_type": "stream",
     "text": [
      "t-критическая: t1=-2.10092204024096 и t2=2.10092204024096\n"
     ]
    }
   ],
   "source": [
    "n = 10\n",
    "p = 0.95\n",
    "alpha = 1-p\n",
    "\n",
    "t1 = stats.t.ppf(alpha/2, df=2*(n-1))\n",
    "t2 = stats.t.ppf(1-alpha/2, df=2*(n-1))\n",
    "print(f't-критическая: t1={t1} и t2={t2}')"
   ]
  }
 ],
 "metadata": {
  "hide_input": false,
  "kernelspec": {
   "display_name": "Python 3 (ipykernel)",
   "language": "python",
   "name": "python3"
  },
  "language_info": {
   "codemirror_mode": {
    "name": "ipython",
    "version": 3
   },
   "file_extension": ".py",
   "mimetype": "text/x-python",
   "name": "python",
   "nbconvert_exporter": "python",
   "pygments_lexer": "ipython3",
   "version": "3.9.2"
  },
  "toc": {
   "base_numbering": 1,
   "nav_menu": {},
   "number_sections": false,
   "sideBar": true,
   "skip_h1_title": false,
   "title_cell": "Table of Contents",
   "title_sidebar": "Contents",
   "toc_cell": false,
   "toc_position": {
    "height": "calc(100% - 180px)",
    "left": "10px",
    "top": "150px",
    "width": "384px"
   },
   "toc_section_display": true,
   "toc_window_display": true
  },
  "varInspector": {
   "cols": {
    "lenName": 16,
    "lenType": 16,
    "lenVar": 40
   },
   "kernels_config": {
    "python": {
     "delete_cmd_postfix": "",
     "delete_cmd_prefix": "del ",
     "library": "var_list.py",
     "varRefreshCmd": "print(var_dic_list())"
    },
    "r": {
     "delete_cmd_postfix": ") ",
     "delete_cmd_prefix": "rm(",
     "library": "var_list.r",
     "varRefreshCmd": "cat(var_dic_list()) "
    }
   },
   "types_to_exclude": [
    "module",
    "function",
    "builtin_function_or_method",
    "instance",
    "_Feature"
   ],
   "window_display": false
  }
 },
 "nbformat": 4,
 "nbformat_minor": 5
}
