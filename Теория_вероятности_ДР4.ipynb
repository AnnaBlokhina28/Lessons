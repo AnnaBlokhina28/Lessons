{
 "cells": [
  {
   "cell_type": "markdown",
   "id": "d66d2a7b",
   "metadata": {},
   "source": [
    "<font color=\"#56a7cf\"><h1><b>Урок 4. Непрерывная случайная величина</b></h1></font>"
   ]
  },
  {
   "cell_type": "markdown",
   "id": "2cdb1af7",
   "metadata": {},
   "source": [
    "<font color=\"#56a7cf\"><h2><b>Формулы</b></h2></font>"
   ]
  },
  {
   "cell_type": "code",
   "execution_count": 1,
   "id": "22d5a398",
   "metadata": {},
   "outputs": [],
   "source": [
    "import warnings\n",
    "import pandas as pd\n",
    "import numpy as np\n",
    "from scipy import stats\n",
    "import math\n",
    "from matplotlib import pyplot as pl"
   ]
  },
  {
   "cell_type": "markdown",
   "id": "e364140a",
   "metadata": {},
   "source": [
    "<font color=\"#56a7cf\"><h2><b>Задача 1</b></h2></font>\n",
    "\n",
    "Случайная непрерывная величина A имеет равномерное распределение на\n",
    "промежутке (200, 800]. Найдите ее среднее значение и дисперсию."
   ]
  },
  {
   "cell_type": "code",
   "execution_count": 2,
   "id": "6dcebdc3",
   "metadata": {},
   "outputs": [
    {
     "name": "stdout",
     "output_type": "stream",
     "text": [
      "Среднее значение = 500.0\n",
      "Дисперсия = 30000.0\n"
     ]
    }
   ],
   "source": [
    "#Среденее значение\n",
    "\n",
    "Average = (200+800)/2\n",
    "print(f\"Среднее значение = {Average}\")\n",
    "\n",
    "D = (800-200)**2/12\n",
    "print(f\"Дисперсия = {D}\")"
   ]
  },
  {
   "cell_type": "markdown",
   "id": "f79422d4",
   "metadata": {},
   "source": [
    "<font color=\"#56a7cf\"><h2><b>Задача 2</b></h2></font>\n",
    "\n",
    "О случайной непрерывной равномерно распределенной величине B известно, что ее\n",
    "дисперсия равна 0.2.\n",
    "Можно ли найти правую границу величины B и ее среднее значение зная, что левая\n",
    "граница равна 0.5?\n",
    "Если да, найдите ее.\n",
    "\n",
    "Решение:\n",
    "подставим в формулу дисперсии для равномерного распределения:\n",
    "D=(d-a)**2/12\n",
    "0.2=(b-0.5)**2/12\n",
    "b-0.5 =sqrt2.4\n",
    "b=sqrt2.4+0.5\n",
    "Вычислим:"
   ]
  },
  {
   "cell_type": "code",
   "execution_count": 3,
   "id": "080ce667",
   "metadata": {},
   "outputs": [
    {
     "name": "stdout",
     "output_type": "stream",
     "text": [
      "Правая граница = 2.049193338482967\n"
     ]
    }
   ],
   "source": [
    "b=math.sqrt(2.4)+0.5\n",
    "print(f\"Правая граница = {b}\")"
   ]
  },
  {
   "cell_type": "markdown",
   "id": "1912f9b4",
   "metadata": {},
   "source": [
    "<font color=\"#56a7cf\"><h2><b>Задача 3</b></h2></font>\n",
    "\n",
    "Непрерывная случайная величина X распределена нормально и задана плотностью\n",
    "распределения\n",
    "f(x) = (1 / (4 * sqrt(2pi))) * exp((-(x+2)**2) / 32)\n",
    "Найдите:\n",
    "а). M(X)\n",
    "б). D(X)\n",
    "в). std(X) (среднее квадратичное отклонение)\n",
    "\n",
    "Решение:\n",
    "а). M(X) = -2\n",
    "б). D(X) = Сигма**2=16\n",
    "в). std(X) (среднее квадратичное отклонение) = 4"
   ]
  },
  {
   "cell_type": "markdown",
   "id": "87006bb1",
   "metadata": {},
   "source": [
    "<font color=\"#56a7cf\"><h2><b>Задача 4</b></h2></font>\n",
    "\n",
    "Рост взрослого населения города X имеет нормальное распределение, причем, средний рост равен 174 см, а среднее квадратическое отклонение равно 8 см. посчитайте, какова вероятность того, что случайным образом выбранный взрослый человек имеет рост:\n",
    "1. больше 182 см?\n",
    "2. больше 190 см?\n",
    "3. от 166 см до 190 см?\n",
    "4. от 166 см до 182 см?\n",
    "5. от 158 см до 190 см?\n",
    "6. не выше 150 см или не ниже 190 см?\n",
    "7. не выше 150 см или не ниже 198 см?\n",
    "8. ниже 166 см?\n",
    "\n",
    "Задачу можно решить двумя способами: без использования сторонних библиотек (numpy, scipy, pandas и пр.), а затем проверить себя с помощью встроенных функций\n",
    "\n",
    "Решение: Дано нормальное распредение используем форммулу критерия Z=X-M/std и найдем верятность по таблице"
   ]
  },
  {
   "cell_type": "code",
   "execution_count": 4,
   "id": "c83948a1",
   "metadata": {},
   "outputs": [
    {
     "name": "stdout",
     "output_type": "stream",
     "text": [
      "Вероятность, что случайный взрослый человек выше 182 см = 0.1587\n",
      "Вероятность, что случайный взрослый человек выше 190 см = 0.02275\n",
      "Вероятность, что случайный взрослый человек от 166 см до 190 см = 0.81859\n",
      "Вероятность, что случайный взрослый человек от 166 см до 182 см = 0.68264\n",
      "Вероятность, что случайный взрослый человек от 158 см до 190 см = 0.9545\n",
      "Вероятность, что случайный взрослый человек не выше 150 см или не ниже 190 см = 0.0241\n",
      "Вероятность, что случайный взрослый человек не выше 150 см или не ниже 198 см = 0.0027\n",
      "Вероятность, что случайный взрослый человек ниже 166 см = 0.15866\n"
     ]
    }
   ],
   "source": [
    "M = 174\n",
    "Std = 8\n",
    "#1. больше 182 см - X>182\n",
    "Z182 = (182-174)/8\n",
    "Pless182 = 0.8413\n",
    "Pmore182 = 1-Pless182\n",
    "print(f\"Вероятность, что случайный взрослый человек выше 182 см = {round(Pmore182,5)}\")\n",
    "\n",
    "#2. больше 190 см - X>190\n",
    "Z190 = (190-174)/8\n",
    "Pless190 = 0.97725\n",
    "Pmore190 = 1-Pless190\n",
    "print(f\"Вероятность, что случайный взрослый человек выше 190 см = {round(Pmore190,5)}\")\n",
    "\n",
    "#3. от 166 см до 190 см P(190)-P(166)\n",
    "Z166 = (166-174)/8\n",
    "Pless166 = 0.15866\n",
    "P166_190 = Pless190 - Pless166\n",
    "print(f\"Вероятность, что случайный взрослый человек от 166 см до 190 см = {round(P166_190,5)}\")\n",
    "\n",
    "#4. от 166 см до 182 см P(182)-P(166)\n",
    "P166_182 = Pless182 - Pless166\n",
    "print(f\"Вероятность, что случайный взрослый человек от 166 см до 182 см = {round(P166_182,5)}\")\n",
    "\n",
    "#5. от 158 см до 190 см P(190)-P(158)\n",
    "Z158 = (158-174)/8\n",
    "Pless158 = 0.02275\n",
    "P158_190 = Pless190 - Pless158\n",
    "print(f\"Вероятность, что случайный взрослый человек от 158 см до 190 см = {round(P158_190,5)}\")\n",
    "\n",
    "#6. не выше 150 см или не ниже 190 см x<150 или x>190\n",
    "Z150 = (150-174)/8\n",
    "Pless150 = 0.00135\n",
    "P150P190 = Pless150+Pmore190\n",
    "print(f\"Вероятность, что случайный взрослый человек не выше 150 см или не ниже 190 см = {round(P150P190,5)}\")\n",
    "\n",
    "#7. не выше 150 см или не ниже 198 см x<150 или x>198\n",
    "Z198 = (198-174)/8\n",
    "Pless198 = 0.99865\n",
    "Pmore198 = 1-Pless198\n",
    "P150P198 = Pless150+Pmore198\n",
    "print(f\"Вероятность, что случайный взрослый человек не выше 150 см или не ниже 198 см = {round(P150P198,5)}\")\n",
    "\n",
    "#8. ниже 166 см x<166\n",
    "print(f\"Вероятность, что случайный взрослый человек ниже 166 см = {round(Pless166,5)}\")"
   ]
  },
  {
   "cell_type": "code",
   "execution_count": 5,
   "id": "5b4e8b1b",
   "metadata": {},
   "outputs": [
    {
     "name": "stdout",
     "output_type": "stream",
     "text": [
      "Вероятность, что случайный взрослый человек выше 182 см = 0.15865525393145707\n",
      "Вероятность, что случайный взрослый человек выше 190 см = 0.02275013194817921\n",
      "Вероятность, что случайный взрослый человек от 166 см до 190 см = 0.8185946141203637\n",
      "Вероятность, что случайный взрослый человек от 166 см до 182 см = 0.6826894921370859\n",
      "Вероятность, что случайный взрослый человек от 158 см до 190 см = 0.9544997361036416\n",
      "Вероятность, что случайный взрослый человек не выше 150 см или не ниже 190 см = 0.0241000299798093\n",
      "Вероятность, что случайный взрослый человек не выше 150 см или не ниже 198 см = 0.0026997960632601965\n",
      "Вероятность, что случайный взрослый человек ниже 166 см = 0.15865525393145707\n"
     ]
    }
   ],
   "source": [
    "#Решение с использованием библиотек\n",
    "\n",
    "#1. больше 182 см - X>182\n",
    "Pmore182 =1-stats.norm.cdf(182, loc = 174, scale = 8)\n",
    "print(f\"Вероятность, что случайный взрослый человек выше 182 см = {Pmore182}\")\n",
    "\n",
    "#2. больше 190 см - X>190\n",
    "Pmore190 = 1-stats.norm.cdf(190, loc = 174, scale = 8)\n",
    "print(f\"Вероятность, что случайный взрослый человек выше 190 см = {Pmore190}\")\n",
    "\n",
    "#3. от 166 см до 190 см P(190)-P(166)\n",
    "P166_190 = stats.norm.cdf(190, loc = 174, scale = 8) - stats.norm.cdf(166, loc = 174, scale = 8)\n",
    "print(f\"Вероятность, что случайный взрослый человек от 166 см до 190 см = {P166_190}\")\n",
    "\n",
    "#4. от 166 см до 182 см P(182)-P(166)\n",
    "P166_182 = stats.norm.cdf(182, loc = 174, scale = 8) - stats.norm.cdf(166, loc = 174, scale = 8)\n",
    "print(f\"Вероятность, что случайный взрослый человек от 166 см до 182 см = {P166_182}\")\n",
    "\n",
    "#5. от 158 см до 190 см P(190)-P(158)\n",
    "P158_190 = stats.norm.cdf(190, loc = 174, scale = 8) - stats.norm.cdf(158, loc = 174, scale = 8)\n",
    "print(f\"Вероятность, что случайный взрослый человек от 158 см до 190 см = {P158_190}\")\n",
    "\n",
    "#6. не выше 150 см или не ниже 190 см x<150 или x>190\n",
    "P150P190 = stats.norm.cdf(150, loc = 174, scale = 8)+(1-stats.norm.cdf(190, loc = 174, scale = 8))\n",
    "print(f\"Вероятность, что случайный взрослый человек не выше 150 см или не ниже 190 см = {P150P190}\")\n",
    "\n",
    "#7. не выше 150 см или не ниже 198 см x<150 или x>198\n",
    "P150P198 = stats.norm.cdf(150, loc = 174, scale = 8)+(1-stats.norm.cdf(198, loc = 174, scale = 8))\n",
    "print(f\"Вероятность, что случайный взрослый человек не выше 150 см или не ниже 198 см = {P150P198}\")\n",
    "\n",
    "#8. ниже 166 см x<166\n",
    "Pless166 = stats.norm.cdf(166, loc = 174, scale = 8)\n",
    "print(f\"Вероятность, что случайный взрослый человек ниже 166 см = {Pless166}\")"
   ]
  },
  {
   "cell_type": "markdown",
   "id": "47013d87",
   "metadata": {},
   "source": [
    "<font color=\"#56a7cf\"><h2><b>Задача 5</b></h2></font>\n",
    "\n",
    "На сколько сигм (средних квадратичных отклонений) отклоняется рост человека,\n",
    "равный 190 см, от математического ожидания роста в популяции, в которой M(X) = 178 см и D(X) = 25 кв.см?\n",
    "\n",
    "Решение:Число сигм(отклонений) это критерий Z = X-M(x)/Cигму\n",
    "\n",
    "Другое решение М(x)+5(Сигма1)=183+5(Сигма2) = 188+5(Сигма3) = 193 - рост человека 190 лежит между 2 и 3 сигмой(188-193 см)"
   ]
  },
  {
   "cell_type": "code",
   "execution_count": 6,
   "id": "a576d528",
   "metadata": {},
   "outputs": [
    {
     "name": "stdout",
     "output_type": "stream",
     "text": [
      "Число Сигм(отклонений) = 2.4\n"
     ]
    }
   ],
   "source": [
    "Z = (190-178)/5\n",
    "print(f\"Число Сигм(отклонений) = {Z}\")"
   ]
  },
  {
   "cell_type": "markdown",
   "id": "5b6ed480",
   "metadata": {},
   "source": [
    "<font color=\"#56a7cf\"><h2><b>Дополнительно (на повторение)</b></h2></font>\n",
    "\n",
    "Даны значения зарплат из выборки выпускников:\n",
    "\n",
    "100, 80, 75, 77, 89, 33, 45, 25, 65, 17, 30, 24, 57, 55, 70, 75, 65, 84, 90, 150.\n",
    "\n",
    "построить гитограмму распределения, подобрав лучший параметр bins,\n",
    "найти первый и третий квартили, интерквартильное расстояние. Найти выборсы в выборке, используя для этого \"усы\" из boxplot."
   ]
  },
  {
   "cell_type": "code",
   "execution_count": 7,
   "id": "3a578e56",
   "metadata": {},
   "outputs": [
    {
     "data": {
      "text/plain": [
       "array([[<AxesSubplot:title={'center':'salaries'}>]], dtype=object)"
      ]
     },
     "execution_count": 7,
     "metadata": {},
     "output_type": "execute_result"
    },
    {
     "data": {
      "image/png": "[encoded data removed]",
      "text/plain": [
       "<Figure size 1080x360 with 1 Axes>"
      ]
     },
     "metadata": {
      "needs_background": "light"
     },
     "output_type": "display_data"
    }
   ],
   "source": [
    "salaries_df = pd.DataFrame([100, 80, 75, 77, 89, 33, 45, 25, 65, 17, 30, 24, 57, 55, 70, 75, 65, 84, 90, 150], columns=['salaries'])\n",
    "\n",
    "bins=len(salaries_df)\n",
    "salaries_df.hist(bins=bins, figsize=(15,5))"
   ]
  },
  {
   "cell_type": "code",
   "execution_count": 8,
   "id": "9aa9f460",
   "metadata": {},
   "outputs": [
    {
     "data": {
      "text/html": [
       "<div>\n",
       "<style scoped>\n",
       "    .dataframe tbody tr th:only-of-type {\n",
       "        vertical-align: middle;\n",
       "    }\n",
       "\n",
       "    .dataframe tbody tr th {\n",
       "        vertical-align: top;\n",
       "    }\n",
       "\n",
       "    .dataframe thead th {\n",
       "        text-align: right;\n",
       "    }\n",
       "</style>\n",
       "<table border=\"1\" class=\"dataframe\">\n",
       "  <thead>\n",
       "    <tr style=\"text-align: right;\">\n",
       "      <th></th>\n",
       "      <th>salaries</th>\n",
       "    </tr>\n",
       "  </thead>\n",
       "  <tbody>\n",
       "    <tr>\n",
       "      <th>0.25</th>\n",
       "      <td>42.0</td>\n",
       "    </tr>\n",
       "    <tr>\n",
       "      <th>0.75</th>\n",
       "      <td>81.0</td>\n",
       "    </tr>\n",
       "  </tbody>\n",
       "</table>\n",
       "</div>"
      ],
      "text/plain": [
       "      salaries\n",
       "0.25      42.0\n",
       "0.75      81.0"
      ]
     },
     "execution_count": 8,
     "metadata": {},
     "output_type": "execute_result"
    }
   ],
   "source": [
    "salaries_df.quantile([0.25,0.75])"
   ]
  },
  {
   "cell_type": "code",
   "execution_count": 9,
   "id": "82d8b7d9",
   "metadata": {},
   "outputs": [
    {
     "data": {
      "text/html": [
       "<div>\n",
       "<style scoped>\n",
       "    .dataframe tbody tr th:only-of-type {\n",
       "        vertical-align: middle;\n",
       "    }\n",
       "\n",
       "    .dataframe tbody tr th {\n",
       "        vertical-align: top;\n",
       "    }\n",
       "\n",
       "    .dataframe thead th {\n",
       "        text-align: right;\n",
       "    }\n",
       "</style>\n",
       "<table border=\"1\" class=\"dataframe\">\n",
       "  <thead>\n",
       "    <tr style=\"text-align: right;\">\n",
       "      <th></th>\n",
       "      <th>salaries</th>\n",
       "    </tr>\n",
       "  </thead>\n",
       "  <tbody>\n",
       "    <tr>\n",
       "      <th>count</th>\n",
       "      <td>20.000000</td>\n",
       "    </tr>\n",
       "    <tr>\n",
       "      <th>mean</th>\n",
       "      <td>65.300000</td>\n",
       "    </tr>\n",
       "    <tr>\n",
       "      <th>std</th>\n",
       "      <td>31.624607</td>\n",
       "    </tr>\n",
       "    <tr>\n",
       "      <th>min</th>\n",
       "      <td>17.000000</td>\n",
       "    </tr>\n",
       "    <tr>\n",
       "      <th>25%</th>\n",
       "      <td>42.000000</td>\n",
       "    </tr>\n",
       "    <tr>\n",
       "      <th>50%</th>\n",
       "      <td>67.500000</td>\n",
       "    </tr>\n",
       "    <tr>\n",
       "      <th>75%</th>\n",
       "      <td>81.000000</td>\n",
       "    </tr>\n",
       "    <tr>\n",
       "      <th>max</th>\n",
       "      <td>150.000000</td>\n",
       "    </tr>\n",
       "  </tbody>\n",
       "</table>\n",
       "</div>"
      ],
      "text/plain": [
       "         salaries\n",
       "count   20.000000\n",
       "mean    65.300000\n",
       "std     31.624607\n",
       "min     17.000000\n",
       "25%     42.000000\n",
       "50%     67.500000\n",
       "75%     81.000000\n",
       "max    150.000000"
      ]
     },
     "execution_count": 9,
     "metadata": {},
     "output_type": "execute_result"
    }
   ],
   "source": [
    "salaries_df.describe()"
   ]
  },
  {
   "cell_type": "code",
   "execution_count": 10,
   "id": "00a961bc",
   "metadata": {},
   "outputs": [
    {
     "data": {
      "text/plain": [
       "<AxesSubplot:>"
      ]
     },
     "execution_count": 10,
     "metadata": {},
     "output_type": "execute_result"
    },
    {
     "data": {
      "image/png": "[encoded data removed]",
      "text/plain": [
       "<Figure size 432x288 with 1 Axes>"
      ]
     },
     "metadata": {
      "needs_background": "light"
     },
     "output_type": "display_data"
    }
   ],
   "source": [
    "salaries_df.boxplot()\n",
    "#Анализируя boxplot, видно, что зарплата 150-это выброс"
   ]
  },
  {
   "cell_type": "code",
   "execution_count": 11,
   "id": "a720360a",
   "metadata": {},
   "outputs": [
    {
     "name": "stdout",
     "output_type": "stream",
     "text": [
      "Интерквартильное расстояние = 39\n"
     ]
    }
   ],
   "source": [
    "#интерквартильное расстояние-растояние режду I и III квартилями\n",
    "Q1 = 42\n",
    "Q3 = 81\n",
    "\n",
    "INdistance = Q3-Q1\n",
    "print(f\"Интерквартильное расстояние = {INdistance}\")"
   ]
  }
 ],
 "metadata": {
  "hide_input": false,
  "kernelspec": {
   "display_name": "Python 3 (ipykernel)",
   "language": "python",
   "name": "python3"
  },
  "language_info": {
   "codemirror_mode": {
    "name": "ipython",
    "version": 3
   },
   "file_extension": ".py",
   "mimetype": "text/x-python",
   "name": "python",
   "nbconvert_exporter": "python",
   "pygments_lexer": "ipython3",
   "version": "3.9.2"
  },
  "toc": {
   "base_numbering": 1,
   "nav_menu": {},
   "number_sections": false,
   "sideBar": true,
   "skip_h1_title": false,
   "title_cell": "Table of Contents",
   "title_sidebar": "Contents",
   "toc_cell": false,
   "toc_position": {
    "height": "calc(100% - 180px)",
    "left": "10px",
    "top": "150px",
    "width": "384px"
   },
   "toc_section_display": true,
   "toc_window_display": true
  },
  "varInspector": {
   "cols": {
    "lenName": 16,
    "lenType": 16,
    "lenVar": 40
   },
   "kernels_config": {
    "python": {
     "delete_cmd_postfix": "",
     "delete_cmd_prefix": "del ",
     "library": "var_list.py",
     "varRefreshCmd": "print(var_dic_list())"
    },
    "r": {
     "delete_cmd_postfix": ") ",
     "delete_cmd_prefix": "rm(",
     "library": "var_list.r",
     "varRefreshCmd": "cat(var_dic_list()) "
    }
   },
   "types_to_exclude": [
    "module",
    "function",
    "builtin_function_or_method",
    "instance",
    "_Feature"
   ],
   "window_display": false
  }
 },
 "nbformat": 4,
 "nbformat_minor": 5
}
