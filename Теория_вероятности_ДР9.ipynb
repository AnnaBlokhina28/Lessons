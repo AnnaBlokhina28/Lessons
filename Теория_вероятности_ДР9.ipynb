{
 "cells": [
  {
   "cell_type": "markdown",
   "id": "d605e6ca",
   "metadata": {},
   "source": [
    "<font color=\"#56a7cf\"><h1><b>Урок 9. Линейная регрессия Логистическая регрессия</b></h1></font>"
   ]
  },
  {
   "cell_type": "markdown",
   "id": "4515561b",
   "metadata": {},
   "source": [
    "<font color=\"#56a7cf\"><h2><b>Формулы</b></h2></font>"
   ]
  },
  {
   "cell_type": "code",
   "execution_count": 1,
   "id": "c795c4cc",
   "metadata": {},
   "outputs": [],
   "source": [
    "import warnings\n",
    "import pandas as pd\n",
    "import numpy as np\n",
    "import scipy.stats as stats\n",
    "import math\n",
    "from sklearn.linear_model import LinearRegression"
   ]
  },
  {
   "cell_type": "markdown",
   "id": "2ea235ef",
   "metadata": {},
   "source": [
    "<font color=\"#56a7cf\"><h2><b>Задача 1</b></h2></font>\n",
    "\n",
    "Даны значения величины заработной платы заемщиков банка (zp) и значения их\n",
    "поведенческого кредитного скоринга (ks): zp = [35, 45, 190, 200, 40, 70, 54, 150, 120, 110],\n",
    "ks = [401, 574, 874, 919, 459, 739, 653, 902, 746, 832]. Используя математические\n",
    "операции, посчитать коэффициенты линейной регрессии, приняв за X заработную плату\n",
    "(то есть, zp - признак), а за y - значения скорингового балла (то есть, ks - целевая\n",
    "переменная). Произвести расчет как с использованием intercept, так и без.\n",
    "\n",
    "Вывод:функция имеет вид у = 444-2.62*х"
   ]
  },
  {
   "cell_type": "code",
   "execution_count": 2,
   "id": "a73568c5",
   "metadata": {},
   "outputs": [
    {
     "name": "stdout",
     "output_type": "stream",
     "text": [
      "2.6205388824027653\n",
      "444.17735732435955\n",
      "[535.89621821 562.10160703 942.07974498 968.2851338  548.99891262\n",
      " 627.61507909 585.68645697 837.25818968 758.64202321 732.43663439]\n",
      "444.17735732435955\n",
      "[2.62053888]\n"
     ]
    }
   ],
   "source": [
    "x =np.array([35, 45, 190, 200, 40, 70, 54, 150, 120, 110])\n",
    "y = np.array([401, 574, 874, 919, 459, 739, 653, 902, 746, 832])\n",
    "n = len(x)\n",
    "#Расчет по математическим формулам\n",
    "b1 = (n*np.sum(x*y) - np.sum(x)*np.sum(y))/(n*np.sum(x**2)-np.sum(x)**2)\n",
    "print(b1)\n",
    "b0 = np.mean(y)-b1*np.mean(x)\n",
    "print(b0)\n",
    "y_pred = b0 + b1*x\n",
    "print(y_pred)\n",
    "#Расчет с помощью функций Python\n",
    "model = LinearRegression()\n",
    "X =x.reshape(-1,1)\n",
    "regres = model.fit(X,y)\n",
    "print(regres.intercept_)\n",
    "print(regres.coef_)"
   ]
  },
  {
   "cell_type": "markdown",
   "id": "863f27f5",
   "metadata": {},
   "source": [
    "<font color=\"#56a7cf\"><h2><b>Задача 2</b></h2></font>\n",
    "\n",
    "Посчитать коэффициент линейной регрессии при заработной плате (zp), используя\n",
    "градиентный спуск (без intercept).\n",
    "\n",
    "Вывод:функция имеет вид y = 5.89*x"
   ]
  },
  {
   "cell_type": "code",
   "execution_count": 3,
   "id": "77cc4c0a",
   "metadata": {},
   "outputs": [
    {
     "name": "stdout",
     "output_type": "stream",
     "text": [
      "interanion = 0, B1 = 0.25952808, mse = 493237.7212546963\n",
      "interanion = 250, B1 = 5.884608547059329, mse = 56517.232638059555\n",
      "interanion = 500, B1 = 5.889815595583751, mse = 56516.858416040064\n",
      "interanion = 750, B1 = 5.889820415666681, mse = 56516.8584157194\n",
      "interanion = 1000, B1 = 5.8898204201285544, mse = 56516.85841571941\n",
      "interanion = 1250, B1 = 5.889820420132673, mse = 56516.85841571943\n",
      "interanion = 1500, B1 = 5.889820420132673, mse = 56516.85841571943\n",
      "interanion = 1750, B1 = 5.889820420132673, mse = 56516.85841571943\n",
      "interanion = 2000, B1 = 5.889820420132673, mse = 56516.85841571943\n",
      "interanion = 2250, B1 = 5.889820420132673, mse = 56516.85841571943\n",
      "interanion = 2500, B1 = 5.889820420132673, mse = 56516.85841571943\n",
      "interanion = 2750, B1 = 5.889820420132673, mse = 56516.85841571943\n",
      "mse = 56516.85841572182\n"
     ]
    }
   ],
   "source": [
    "x =np.array([35, 45, 190, 200, 40, 70, 54, 150, 120, 110])\n",
    "y = np.array([401, 574, 874, 919, 459, 739, 653, 902, 746, 832])\n",
    "\n",
    "def mse_(B1, y = y, x=x, n=10):\n",
    "    return np.sum((B1*x-y)**2)/n\n",
    "\n",
    "alpha = 1e-6\n",
    "B1 = 0.1\n",
    "n = 10\n",
    "\n",
    "for i in range(3000):\n",
    "    B1 -= alpha*(2/n)*np.sum((B1*x-y)*x)\n",
    "    if i %250==0:\n",
    "        print(f'interanion = {i}, B1 = {B1}, mse = {mse_(B1)}')\n",
    "    \n",
    "mse=mse_(5.889820)\n",
    "print(f'mse = {mse}')"
   ]
  }
 ],
 "metadata": {
  "hide_input": false,
  "kernelspec": {
   "display_name": "Python 3 (ipykernel)",
   "language": "python",
   "name": "python3"
  },
  "language_info": {
   "codemirror_mode": {
    "name": "ipython",
    "version": 3
   },
   "file_extension": ".py",
   "mimetype": "text/x-python",
   "name": "python",
   "nbconvert_exporter": "python",
   "pygments_lexer": "ipython3",
   "version": "3.9.2"
  },
  "toc": {
   "base_numbering": 1,
   "nav_menu": {},
   "number_sections": false,
   "sideBar": true,
   "skip_h1_title": false,
   "title_cell": "Table of Contents",
   "title_sidebar": "Contents",
   "toc_cell": false,
   "toc_position": {},
   "toc_section_display": true,
   "toc_window_display": true
  },
  "varInspector": {
   "cols": {
    "lenName": 16,
    "lenType": 16,
    "lenVar": 40
   },
   "kernels_config": {
    "python": {
     "delete_cmd_postfix": "",
     "delete_cmd_prefix": "del ",
     "library": "var_list.py",
     "varRefreshCmd": "print(var_dic_list())"
    },
    "r": {
     "delete_cmd_postfix": ") ",
     "delete_cmd_prefix": "rm(",
     "library": "var_list.r",
     "varRefreshCmd": "cat(var_dic_list()) "
    }
   },
   "types_to_exclude": [
    "module",
    "function",
    "builtin_function_or_method",
    "instance",
    "_Feature"
   ],
   "window_display": false
  }
 },
 "nbformat": 4,
 "nbformat_minor": 5
}
