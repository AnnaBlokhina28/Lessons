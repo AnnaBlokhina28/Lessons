{
 "cells": [
  {
   "cell_type": "code",
   "execution_count": null,
   "id": "6b53b618",
   "metadata": {},
   "outputs": [],
   "source": [
    "Урок 8. Python: от простого к практике. Продолжение\n",
    "Доделать решение задачи предыдущего семинара:\n",
    "\n",
    "Cчитывать данные из CSV\n",
    "Доработать программу до информационной системы позволяющую работать с сотрудниками некой компании\n",
    "считывать не только ФИ и номер, но еще должность, год рождения и статус в отпуске или нет\n",
    "продумать дополнительный функционал"
   ]
  },
  {
   "cell_type": "code",
   "execution_count": null,
   "id": "b9609139",
   "metadata": {},
   "outputs": [],
   "source": [
    "#Считывание данных из txt в csv \n",
    "import csv\n",
    "\n",
    "def get_list_employ(path_file):\n",
    "    k=[\"Номер телефона\",\"Фамилия\",\"Имя\",\"Год рождения\",\"Должность\",\"Статус отпуск/работает\"]\n",
    "    data1=[]\n",
    "    with open(path_file, \"r\") as emp:\n",
    "        for i in emp:\n",
    "            i=i.rstrip('\\n')\n",
    "            purchase = i.split('\\t')\n",
    "            result = {}\n",
    "            for j in range(6):\n",
    "                result[k[j]] = purchase[j]\n",
    "            data1.append(result)\n",
    "        return data1 \n",
    "\n",
    "result = get_list_employ(\"data_employ.txt\")\n",
    "\n",
    "print(result)\n",
    "\n",
    "with open('data_employ.csv', \"w\" ) as f:\n",
    "    writer = csv.DictWriter(\n",
    "        f, fieldnames = list(result[0].keys()), quoting=csv.QUOTE_NONNUMERIC)\n",
    "    writer.writeheader()\n",
    "    for d in result:\n",
    "        writer.writerow(d)"
   ]
  },
  {
   "cell_type": "code",
   "execution_count": null,
   "id": "19769846",
   "metadata": {},
   "outputs": [],
   "source": [
    "#Функция вывода данных по запросу\n",
    "import pandas as pd\n",
    "\n",
    "def Searcher2(a, view=False):\n",
    "\n",
    "    result = []\n",
    "\n",
    "    dt = pd.read_csv(\"data_employ.csv\",sep=\",\")\n",
    "    \n",
    "    a = a.replace(\" \", \"\").replace(\"\\t\",\"\")\n",
    "    \n",
    "    #Вывод справочника\n",
    "    if a == \"\" and view == True:\n",
    "        display(dt)\n",
    "        return\n",
    "    \n",
    "\n",
    "    if (a.isdigit() and len(a)>4):\n",
    "        result = dt[dt[\"Номер телефона\"] == int(a)]\n",
    "    elif (a.isdigit() and len(a)==4):\n",
    "        result = dt[dt[\"Год рождения\"] == int(a)]\n",
    "    else:\n",
    "        result = dt[(str(dt[\"Номер телефона\"]) + dt[\"Фамилия\"] + dt[\"Имя\"]+ str(dt[\"Год рождения\"]) + dt[\"Должность\"] + dt[\"Статус отпуск/работает\"]).str.contains(str(a))]\n",
    "    \n",
    "    return result"
   ]
  },
  {
   "cell_type": "code",
   "execution_count": null,
   "id": "476253d0",
   "metadata": {},
   "outputs": [],
   "source": [
    "#Функция добовления данных в csv\n",
    "import pandas as pd\n",
    "\n",
    "def Add_Data(mode=\"a\"):\n",
    "    \n",
    "    file = \"data_employ.csv\"\n",
    "    \n",
    "    Tel = (input(\"Номер телефона: \")).strip().replace(\"+\", \"\")\n",
    "    Sur = (input(\"Фамилия: \")).strip().lower().capitalize()\n",
    "    Name = (input(\"Имя: \")).strip().lower().capitalize()\n",
    "    Year_of_birth = int((input(\"Год рождения: \")).strip())\n",
    "    Qualification = (input(\"Должность: \")).strip().lower().capitalize()\n",
    "    Status = (input(\"Статус отпуск/работает: \")).strip().lower()\n",
    "    \n",
    "    dt = pd.DataFrame([\n",
    "        (Tel, Sur, Name, Year_of_birth, Qualification, Status)\n",
    "        ], columns=[\n",
    "        \"Номер телефона\", \n",
    "        \"Фамилия\", \n",
    "        \"Имя\", \n",
    "        \"Год рождения\", \n",
    "        \"Должность\", \n",
    "        \"Статус отпуск/работает\"\n",
    "    ])\n",
    "    \n",
    "    \n",
    "    if len(Searcher2(Sur + \" \" + Name)) > 0:\n",
    "        print(\"\\n\\nДанные сотрудника уже существуют в справочнике\")\n",
    "        return\n",
    "    else:\n",
    "        dt.to_csv(file, mode=mode, index=False, header=False)\n",
    "        print(\"\\n\\nДанные сотрудника добавлены\")\n",
    "        display(dt)\n",
    "    \n",
    "Add_Data()"
   ]
  },
  {
   "cell_type": "code",
   "execution_count": null,
   "id": "fae38175",
   "metadata": {},
   "outputs": [],
   "source": [
    "#Вывод данных по запросу\n",
    "a = input(\"Введите значение: \")\n",
    "result = Searcher2(a)\n",
    "print(\"-\"*50)\n",
    "print(\"Найдено: \", len(result), \"запись(-и, -ей)\")\n",
    "display(result)"
   ]
  },
  {
   "cell_type": "code",
   "execution_count": null,
   "id": "96a1c565",
   "metadata": {},
   "outputs": [],
   "source": [
    "#Вывод всего списка\n",
    "Searcher2(\"\", True)"
   ]
  },
  {
   "cell_type": "code",
   "execution_count": null,
   "id": "54164588",
   "metadata": {},
   "outputs": [],
   "source": [
    "#Функция изменения статуса сотрудника\n",
    "\n",
    "import pandas as pd\n",
    "\n",
    "def Set_Data(search, status = \"работает\"):\n",
    "    \n",
    "    search = search.strip().replace(\"+\", \"\")\n",
    "    \n",
    "    file = \"data_employ.csv\"\n",
    "    result = Searcher2(search)\n",
    "    \n",
    "    if len(result) == 0:\n",
    "        print(\"Не смог найти сотрудника, измените параметры поиска\")\n",
    "        return\n",
    "    \n",
    "    if len(result) > 1:\n",
    "        print(\"Не смог найти сотрудника, так как заданным условиям соотвествуют следующие результаты:\")\n",
    "        display(result)\n",
    "        return\n",
    "    \n",
    "    \n",
    "    dt = pd.read_csv(file, sep = \",\")\n",
    "    dt.loc[result.index, \"Статус отпуск/работает\"] = status\n",
    "    \n",
    "    dt.to_csv(\"data_employ.csv\", mode=\"w\", index=False, header=True)\n",
    "    \n",
    "    display(dt.loc[result.index])\n",
    "    \n",
    "    return \"Данные о статусе сотрудника изменены\""
   ]
  },
  {
   "cell_type": "code",
   "execution_count": null,
   "id": "1560dcec",
   "metadata": {},
   "outputs": [],
   "source": [
    "#Изменение статуса сотрудника\n",
    "Sur_Name =input(\"Введите Фамилию и имя/номер телефона:\")\n",
    "status1 = input(\"Введите статус:\")\n",
    "\n",
    "Set_Data(Sur_Name, status1)"
   ]
  },
  {
   "cell_type": "code",
   "execution_count": null,
   "id": "229e79c1",
   "metadata": {},
   "outputs": [],
   "source": [
    "#Функция удаления данных из файла csv\n",
    "\n",
    "import pandas as pd\n",
    "\n",
    "def Remove_Data(search):\n",
    "    \n",
    "    search = search.strip().replace(\"+\", \"\")\n",
    "    \n",
    "    file = \"data_employ.csv\"\n",
    "    result = Searcher2(search)\n",
    "    \n",
    "    if len(result) == 0:\n",
    "        print(\"Не смог найти сотрудника, измените параметры поиска\")\n",
    "        return\n",
    "    \n",
    "    if len(result) > 1:\n",
    "        print(\"Не смог найти сотрудника, так как заданным условиям соотвествуют следующие результаты:\")\n",
    "        display(result)\n",
    "        return\n",
    "    \n",
    "    \n",
    "    dt = pd.read_csv(file, sep = \",\")\n",
    "    \n",
    "    display(dt.loc[result.index])\n",
    "    #Спросить удалять / не удалять\n",
    "    dt = dt.drop(labels=result.index, axis=0)\n",
    "    dt.to_csv(\"data_employ.csv\", mode=\"w\", index=False, header=True)\n",
    "    \n",
    "    return \"Данные о сотруднике удалены!\""
   ]
  },
  {
   "cell_type": "code",
   "execution_count": null,
   "id": "9e6558bd",
   "metadata": {},
   "outputs": [],
   "source": [
    "#Удаления данных из файла csv\n",
    "Sur_Name =input(\"Введите Фамилию и имя/номер телефона:\")\n",
    "\n",
    "Remove_Data(Sur_Name)"
   ]
  }
 ],
 "metadata": {
  "hide_input": false,
  "kernelspec": {
   "display_name": "Python 3 (ipykernel)",
   "language": "python",
   "name": "python3"
  },
  "language_info": {
   "codemirror_mode": {
    "name": "ipython",
    "version": 3
   },
   "file_extension": ".py",
   "mimetype": "text/x-python",
   "name": "python",
   "nbconvert_exporter": "python",
   "pygments_lexer": "ipython3",
   "version": "3.9.2"
  },
  "toc": {
   "base_numbering": 1,
   "nav_menu": {},
   "number_sections": true,
   "sideBar": true,
   "skip_h1_title": false,
   "title_cell": "Table of Contents",
   "title_sidebar": "Contents",
   "toc_cell": false,
   "toc_position": {},
   "toc_section_display": true,
   "toc_window_display": false
  },
  "varInspector": {
   "cols": {
    "lenName": 16,
    "lenType": 16,
    "lenVar": 40
   },
   "kernels_config": {
    "python": {
     "delete_cmd_postfix": "",
     "delete_cmd_prefix": "del ",
     "library": "var_list.py",
     "varRefreshCmd": "print(var_dic_list())"
    },
    "r": {
     "delete_cmd_postfix": ") ",
     "delete_cmd_prefix": "rm(",
     "library": "var_list.r",
     "varRefreshCmd": "cat(var_dic_list()) "
    }
   },
   "types_to_exclude": [
    "module",
    "function",
    "builtin_function_or_method",
    "instance",
    "_Feature"
   ],
   "window_display": false
  }
 },
 "nbformat": 4,
 "nbformat_minor": 5
}
