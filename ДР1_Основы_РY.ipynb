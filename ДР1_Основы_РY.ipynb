{
 "cells": [
  {
   "cell_type": "markdown",
   "id": "cb48deb0",
   "metadata": {},
   "source": [
    "<font color=\"#8B0000\"><h1><b>Урок 1. Оформление ноутбука и закрепление функций и генераторов</b></h1></font>"
   ]
  },
  {
   "cell_type": "markdown",
   "id": "012e07df",
   "metadata": {},
   "source": [
    "<font color=\"#C71585\"><h2><b>Задача 1</b></h2></font>\n",
    "\n",
    "Оформляйте ноутбук, используя эти советы:Номер задачи - заголовок 2. Номер подзадачи - заголовок 3. Предоставленные наборы данных оформляйте, как код"
   ]
  },
  {
   "cell_type": "markdown",
   "id": "cdd3d8b1",
   "metadata": {},
   "source": [
    "<font color=\"#C71585\"><h2><b>Задача 2</b></h2></font>\n",
    "\n",
    "На складе лежат разные фрукты в разном количестве. Нужно написать функцию, которая на вход принимает любое количество названий фруктов и их количество, а возвращает общее количество фруктов на складе"
   ]
  },
  {
   "cell_type": "code",
   "execution_count": 1,
   "id": "9100abe8",
   "metadata": {},
   "outputs": [],
   "source": [
    "def fruits_sum(**kwargs):\n",
    "    count_fruit = kwargs.values()\n",
    "    return sum(count_fruit)"
   ]
  },
  {
   "cell_type": "code",
   "execution_count": 2,
   "id": "a3ed5301",
   "metadata": {},
   "outputs": [
    {
     "data": {
      "text/plain": [
       "41"
      ]
     },
     "execution_count": 2,
     "metadata": {},
     "output_type": "execute_result"
    }
   ],
   "source": [
    "fruits_sum(апельсин=3,ананас=5, яблок=10, арбузов = 8, персиков=15)"
   ]
  },
  {
   "cell_type": "markdown",
   "id": "dc5bed00",
   "metadata": {},
   "source": [
    "<font color=\"#C71585\"><h2><b>Задача 3</b></h2></font>\n",
    "\n",
    "Дан список с затратами на рекламу. Но в данных есть ошибки, некоторые затраты имеют отрицательную величину. Удалите такие значения из списка и посчитайте суммарные затраты[100, 125, -90, 345, 655, -1, 0, 200]Используйте list comprehensions"
   ]
  },
  {
   "cell_type": "code",
   "execution_count": 3,
   "id": "8a3713bd",
   "metadata": {},
   "outputs": [
    {
     "name": "stdout",
     "output_type": "stream",
     "text": [
      "1425\n"
     ]
    }
   ],
   "source": [
    "My_list = [100, 125, -90, 345, 655, -1, 0, 200]\n",
    "result = sum([i for i in My_list if i > 0])\n",
    "print(result)"
   ]
  },
  {
   "cell_type": "markdown",
   "id": "ad7eddd3",
   "metadata": {},
   "source": [
    "<font color=\"#C71585\"><h2><b>Задача 4</b></h2></font>\n",
    "\n",
    "Даны два списка.\n",
    "\n",
    "Дата покупки ['2021-09-14', '2021-12-15', '2021-09-08', '2021-12-05', '2021-10-09', '2021-09-30', '2021-12-22', '2021-11-29', '2021-12-24', '2021-11-26', '2021-10-27', '2021-12-18', '2021-11-09', '2021-11-23', '2021-09-27', '2021-10-02', '2021-12-27', '2021-09-20', '2021-12-13', '2021-11-01', '2021-11-09', '2021-12-06', '2021-12-08', '2021-10-09', '2021-10-31', '2021-09-30', '2021-11-09', '2021-12-13', '2021-10-26', '2021-12-09']\n",
    "\n",
    "\n",
    "Суммы покупок по датам [1270, 8413, 9028, 3703, 5739, 4095, 295, 4944, 5723, 3701, 4471, 651, 7037, 4274, 6275, 4988, 6930, 2971, 6592, 2004, 2822, 519, 3406, 2732, 5015, 2008, 316, 6333, 5700, 2887]\n",
    "\n",
    "### 4.1 Найдите, какая выручка у компании в ноябре\n",
    "Используйте list comprehensions\n",
    "### 4.2 Найдите выручку компании в зависимости от месяца\n",
    "Для этого напишите функцию, которая на вход принимает список с датами и список с выручкой, а на выходе словарь, где ключи - это месяцы, а значения - это выручка.\n",
    "Используйте аннотирование типов."
   ]
  },
  {
   "cell_type": "code",
   "execution_count": 4,
   "id": "975c280b",
   "metadata": {},
   "outputs": [
    {
     "name": "stdout",
     "output_type": "stream",
     "text": [
      "15239\n"
     ]
    }
   ],
   "source": [
    "#4.1 Найдите, какая выручка у компании в ноябре\n",
    "\n",
    "data = ['2021-09-14', '2021-12-15', '2021-09-08', '2021-12-05', '2021-10-09', '2021-09-30', '2021-12-22', '2021-11-29',\n",
    "        '2021-12-24', '2021-11-26', '2021-10-27', '2021-12-18', '2021-11-09', '2021-11-23', '2021-09-27', '2021-10-02',\n",
    "        '2021-12-27', '2021-09-20', '2021-12-13', '2021-11-01', '2021-11-09', '2021-12-06', '2021-12-08', '2021-10-09', \n",
    "        '2021-10-31', '2021-09-30', '2021-11-09', '2021-12-13', '2021-10-26', '2021-12-09']\n",
    "Purchases = [1270, 8413, 9028, 3703, 5739, 4095, 295, 4944, 5723, 3701, 4471, 651, 7037, 4274, 6275, 4988, 6930, 2971,\n",
    "             6592, 2004, 2822, 519, 3406, 2732, 5015, 2008, 316, 6333, 5700, 2887]\n",
    "dict_new = {val:Purchases[k] for k, val in enumerate(data)}\n",
    "November_filter =sum({p for i, p in dict_new.items() if (\"2021-11\") in i})\n",
    "print(November_filter)"
   ]
  },
  {
   "cell_type": "code",
   "execution_count": 5,
   "id": "970f6767",
   "metadata": {},
   "outputs": [],
   "source": [
    "# 4.2 Найдите выручку компании в зависимости от месяца\n",
    "\n",
    "def revenue_month(a:list, b:list)->dict:\n",
    "    dict_new = {val:b[k] for k, val in enumerate(a)}\n",
    "    September_sum = sum({p for i, p in dict_new.items() if (\"2021-09\") in i})\n",
    "    October_sum = sum({e for j, e in dict_new.items() if (\"2021-10\") in j})\n",
    "    November_sum =sum({v for y, v in dict_new.items() if (\"2021-11\") in y})\n",
    "    December_sum = sum({o for t,o in dict_new.items() if (\"2021-12\") in t})\n",
    "    \n",
    "    Months_dict = {}\n",
    "    \n",
    "    Months_dict.update({\"September\": September_sum,\"October\":October_sum, \"November\":November_sum,\"December\":December_sum})\n",
    "    \n",
    "    \n",
    "    return Months_dict"
   ]
  },
  {
   "cell_type": "code",
   "execution_count": 6,
   "id": "a7780f49",
   "metadata": {},
   "outputs": [
    {
     "data": {
      "text/plain": [
       "{'September': 21552, 'October': 22906, 'November': 15239, 'December': 38860}"
      ]
     },
     "execution_count": 6,
     "metadata": {},
     "output_type": "execute_result"
    }
   ],
   "source": [
    "revenue_month(data, Purchases)"
   ]
  }
 ],
 "metadata": {
  "hide_input": false,
  "kernelspec": {
   "display_name": "Python 3 (ipykernel)",
   "language": "python",
   "name": "python3"
  },
  "language_info": {
   "codemirror_mode": {
    "name": "ipython",
    "version": 3
   },
   "file_extension": ".py",
   "mimetype": "text/x-python",
   "name": "python",
   "nbconvert_exporter": "python",
   "pygments_lexer": "ipython3",
   "version": "3.9.2"
  },
  "toc": {
   "base_numbering": 1,
   "nav_menu": {},
   "number_sections": false,
   "sideBar": true,
   "skip_h1_title": false,
   "title_cell": "Table of Contents",
   "title_sidebar": "Contents",
   "toc_cell": false,
   "toc_position": {
    "height": "calc(100% - 180px)",
    "left": "10px",
    "top": "150px",
    "width": "349.091px"
   },
   "toc_section_display": true,
   "toc_window_display": true
  },
  "varInspector": {
   "cols": {
    "lenName": 16,
    "lenType": 16,
    "lenVar": 40
   },
   "kernels_config": {
    "python": {
     "delete_cmd_postfix": "",
     "delete_cmd_prefix": "del ",
     "library": "var_list.py",
     "varRefreshCmd": "print(var_dic_list())"
    },
    "r": {
     "delete_cmd_postfix": ") ",
     "delete_cmd_prefix": "rm(",
     "library": "var_list.r",
     "varRefreshCmd": "cat(var_dic_list()) "
    }
   },
   "types_to_exclude": [
    "module",
    "function",
    "builtin_function_or_method",
    "instance",
    "_Feature"
   ],
   "window_display": false
  }
 },
 "nbformat": 4,
 "nbformat_minor": 5
}
