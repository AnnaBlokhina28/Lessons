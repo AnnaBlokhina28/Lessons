{
 "cells": [
  {
   "cell_type": "markdown",
   "id": "2b65ec00",
   "metadata": {},
   "source": [
    "Урок 11. Jupyter Notebook и несколько слов об аналитике\n",
    "\n",
    "Дана функция f(x) = 5x^2 + 10x - 30, которую нужно аналитически проанализировать. Как минимум:\n",
    "Определить корни\n",
    "Построить график\n",
    "Опционально:\n",
    "Найти интервалы, на которых функция возрастает\n",
    "Найти интервалы, на которых функция убывает\n",
    "Вычислить вершину\n",
    "Определить промежутки, на котором f > 0\n",
    "Определить промежутки, на котором f < 0"
   ]
  },
  {
   "cell_type": "code",
   "execution_count": 68,
   "id": "eb3c98a9",
   "metadata": {},
   "outputs": [],
   "source": [
    "import matplotlib.pyplot as plt\n",
    "from sympy import *\n",
    "from math import sqrt\n",
    "%matplotlib inline\n",
    "\n",
    "#f(x) = 5x^2 + 10x - 30\n"
   ]
  },
  {
   "cell_type": "code",
   "execution_count": 67,
   "id": "29b4ad74",
   "metadata": {},
   "outputs": [
    {
     "name": "stdout",
     "output_type": "stream",
     "text": [
      "(-10 - sqrt(10**2 + 4*30*5))/(2*5)\n",
      "(-10 + sqrt(10**2 + 4*30*5))/(2*5)\n",
      "[-3.6457513110645907, 1.6457513110645905]\n"
     ]
    }
   ],
   "source": [
    "x=Symbol('x')\n",
    "a, b, c = symbols('5 10 30') \n",
    "rezult = solve((a*x**2) + (b*x) - c, x)\n",
    "equation_roots = []\n",
    "for i in rezult:\n",
    "    equation_roots.append(eval(str(i)))\n",
    "\n",
    "print(equation_roots)\n",
    "    "
   ]
  },
  {
   "cell_type": "code",
   "execution_count": 73,
   "id": "a404aaf2",
   "metadata": {},
   "outputs": [
    {
     "name": "stdout",
     "output_type": "stream",
     "text": [
      "[-10, -9, -8, -7, -6, -5, -4, -3, -2, -1, 0, 1, 2, 3, 4, 5, 6, 7, 8, 9]\n",
      "[370.0, 285.0, 210.0, 145.0, 90.0, 45.0, 10.0, -15.0, -30.0, -35.0, -30.0, -15.0, 10.0, 45.0, 90.0, 145.0, 210.0, 285.0, 370.0, 465.0]\n"
     ]
    },
    {
     "data": {
      "image/png": "[encoded data removed]",
      "text/plain": [
       "<Figure size 432x288 with 1 Axes>"
      ]
     },
     "metadata": {
      "needs_background": "light"
     },
     "output_type": "display_data"
    }
   ],
   "source": [
    "x_list = list(range(-10,10))\n",
    "y_list = []\n",
    " \n",
    "for num in range(len(x_list)):\n",
    "    int_x=float(x_list[num])\n",
    "    y = (5*int_x**2) + (10*int_x) - 30\n",
    "    y_list.append(y)\n",
    "print(x_list)\n",
    "print(y_list)\n",
    "plt.plot(x_list,y_list)\n",
    "plt.grid()"
   ]
  },
  {
   "cell_type": "code",
   "execution_count": 96,
   "id": "255f81c2",
   "metadata": {},
   "outputs": [
    {
     "name": "stdout",
     "output_type": "stream",
     "text": [
      "-30\n",
      "Интервал возрастания функции: от x:0; у:-30 до плюс бесконечности x и y\n",
      "Интервал убывания функции: от x:0; у:-30 до минус бесконечности x и плюс бесконечности y\n"
     ]
    }
   ],
   "source": [
    "#Интервал убывания функции это где x = от 0 до -∞\n",
    "#Интервал возрастания х от 0 до +∞\n",
    "x = 0\n",
    "y = 5*int(x)**2 + 10*int(x) - 30\n",
    "print(y)\n",
    "print(f\"Интервал возрастания функции: от x:0; у:{y} до плюс бесконечности x и y\") \n",
    "print(f\"Интервал убывания функции: от x:0; у:{y} до минус бесконечности x и плюс бесконечности y\") "
   ]
  },
  {
   "cell_type": "code",
   "execution_count": 98,
   "id": "3b05bb5b",
   "metadata": {},
   "outputs": [
    {
     "name": "stdout",
     "output_type": "stream",
     "text": [
      "Координаты вершины функции(-1.0, -35)\n"
     ]
    }
   ],
   "source": [
    "#Для нахождения вершины x нужно использовать формулу -b/2a, чтобы найти y подставить в уравление x(вершины)\n",
    "xv = -10/(2*5)\n",
    "yv = 5*int(xv)**2 + 10*int(xv) - 30\n",
    "print(f\"Координаты вершины функции{(xv, yv)}\")"
   ]
  },
  {
   "cell_type": "code",
   "execution_count": 1,
   "id": "10980649",
   "metadata": {},
   "outputs": [
    {
     "name": "stdout",
     "output_type": "stream",
     "text": [
      "Интервал f>0: x < -3.6457513110645907 ; x > 1.6457513110645905\n",
      "Интервал f<0:  -3.6457513110645907 < x < 1.6457513110645905\n"
     ]
    }
   ],
   "source": [
    "#Определить промежутки, на котором f > 0 Определить промежутки, на котором f < 0\n",
    "equation_roots = [-3.6457513110645907, 1.6457513110645905]\n",
    "x1 = -3.6457513110645907\n",
    "x2 = 1.6457513110645905\n",
    "print(f\"Интервал f>0: x < {x1} ; x > {x2}\")\n",
    "print(f\"Интервал f<0:  {x1} < x < {x2}\")"
   ]
  }
 ],
 "metadata": {
  "hide_input": false,
  "kernelspec": {
   "display_name": "Python 3 (ipykernel)",
   "language": "python",
   "name": "python3"
  },
  "language_info": {
   "codemirror_mode": {
    "name": "ipython",
    "version": 3
   },
   "file_extension": ".py",
   "mimetype": "text/x-python",
   "name": "python",
   "nbconvert_exporter": "python",
   "pygments_lexer": "ipython3",
   "version": "3.9.2"
  },
  "toc": {
   "base_numbering": 1,
   "nav_menu": {},
   "number_sections": true,
   "sideBar": true,
   "skip_h1_title": false,
   "title_cell": "Table of Contents",
   "title_sidebar": "Contents",
   "toc_cell": false,
   "toc_position": {},
   "toc_section_display": true,
   "toc_window_display": false
  },
  "varInspector": {
   "cols": {
    "lenName": 16,
    "lenType": 16,
    "lenVar": 40
   },
   "kernels_config": {
    "python": {
     "delete_cmd_postfix": "",
     "delete_cmd_prefix": "del ",
     "library": "var_list.py",
     "varRefreshCmd": "print(var_dic_list())"
    },
    "r": {
     "delete_cmd_postfix": ") ",
     "delete_cmd_prefix": "rm(",
     "library": "var_list.r",
     "varRefreshCmd": "cat(var_dic_list()) "
    }
   },
   "types_to_exclude": [
    "module",
    "function",
    "builtin_function_or_method",
    "instance",
    "_Feature"
   ],
   "window_display": false
  }
 },
 "nbformat": 4,
 "nbformat_minor": 5
}
