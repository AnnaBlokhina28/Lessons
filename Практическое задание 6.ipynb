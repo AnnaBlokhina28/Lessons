{
 "cells": [
  {
   "cell_type": "markdown",
   "id": "91a4a66e",
   "metadata": {},
   "source": [
    "Урок 6. Ускоренная обработка данных: lambda, filter, map, zip, enumerate, list comprehension. Продолжение\n",
    "\n",
    "Напишите программу вычисления арифметического выражения заданного строкой. Используйте операции +,-,/,*. приоритет операций стандартный.\n",
    "\n",
    "1+2*3 => 7;\n",
    "1-2*3 => -5;\n",
    "Шаг 2. Добавьте возможность использования скобок, меняющих приоритет операций.\n",
    "Пример:\n",
    "1+2*3 => 7;\n",
    "(1+2)*3 => 9;\n",
    "\n",
    "Опционально: предложить улучшения кода для уже решённых задач:\n",
    "- С помощью использования **лямбд, filter, map, zip, enumerate, list comprehension"
   ]
  },
  {
   "cell_type": "code",
   "execution_count": 15,
   "id": "af63a97f",
   "metadata": {},
   "outputs": [
    {
     "name": "stdout",
     "output_type": "stream",
     "text": [
      "Задайте арифметическое выражения, используйте операции +,-,/,*: (1+2)*3\n",
      "9\n"
     ]
    }
   ],
   "source": [
    "A = input(\"Задайте арифметическое выражения, используйте операции +,-,/,*: \")\n",
    "calc = eval(A)\n",
    "print(calc)"
   ]
  },
  {
   "cell_type": "code",
   "execution_count": 40,
   "id": "7145fa97",
   "metadata": {},
   "outputs": [
    {
     "name": "stdout",
     "output_type": "stream",
     "text": [
      "Введите последовательность чисел:1 2 3 4 5 8 7 9 \n",
      "Введите последовательность чисел:1 2 4 5 6\n",
      "Введите последовательность чисел:1 4 7 8\n",
      "[(1, 1, 1), (2, 2, 4), (3, 4, 7), (4, 5, 8)]\n",
      "[3, 8, 14, 17]\n"
     ]
    }
   ],
   "source": [
    "'''2.Допишите функцию func так, чтоб в итоге получался список, содежащий суммы элеентов списков numbers1, numbers2, numbers3 \n",
    "поэлементно (то есть сумма нулевых, сумма первых, третих и тд)\n",
    "new_numbers = list(map(func, numbers1, numbers2, numbers3)) \n",
    "'''\n",
    "Numbers1 = input(\"Введите последовательность чисел:\").split()\n",
    "Numbers2 = input(\"Введите последовательность чисел:\").split()\n",
    "Numbers3 = input(\"Введите последовательность чисел:\").split()\n",
    "\n",
    "numbers1 = [int(i) for i in Numbers1]\n",
    "numbers2 = [int(i) for i in Numbers2]\n",
    "numbers3 = [int(i) for i in Numbers3]\n",
    "\n",
    "data = list(zip(numbers1, numbers2, numbers3))\n",
    "new_numbers = list(map(lambda j:sum(j),data))\n",
    "print(data)\n",
    "print(new_numbers)"
   ]
  },
  {
   "cell_type": "code",
   "execution_count": 2,
   "id": "99a5aaed",
   "metadata": {},
   "outputs": [
    {
     "name": "stdout",
     "output_type": "stream",
     "text": [
      "Ведите число: 5\n",
      "[(1, 4), (2, 7), (3, 10), (4, 13), (5, 16)]\n"
     ]
    }
   ],
   "source": [
    "#Для натурального N составить и вывести список картежей (n,3n+1)\n",
    "N = int(input(\"Ведите число: \"))\n",
    "p = [(i,3*i+1) for i in range(1,N+1)]\n",
    "print(p)"
   ]
  }
 ],
 "metadata": {
  "hide_input": false,
  "kernelspec": {
   "display_name": "Python 3 (ipykernel)",
   "language": "python",
   "name": "python3"
  },
  "language_info": {
   "codemirror_mode": {
    "name": "ipython",
    "version": 3
   },
   "file_extension": ".py",
   "mimetype": "text/x-python",
   "name": "python",
   "nbconvert_exporter": "python",
   "pygments_lexer": "ipython3",
   "version": "3.9.2"
  },
  "toc": {
   "base_numbering": 1,
   "nav_menu": {},
   "number_sections": true,
   "sideBar": true,
   "skip_h1_title": false,
   "title_cell": "Table of Contents",
   "title_sidebar": "Contents",
   "toc_cell": false,
   "toc_position": {},
   "toc_section_display": true,
   "toc_window_display": false
  },
  "varInspector": {
   "cols": {
    "lenName": 16,
    "lenType": 16,
    "lenVar": 40
   },
   "kernels_config": {
    "python": {
     "delete_cmd_postfix": "",
     "delete_cmd_prefix": "del ",
     "library": "var_list.py",
     "varRefreshCmd": "print(var_dic_list())"
    },
    "r": {
     "delete_cmd_postfix": ") ",
     "delete_cmd_prefix": "rm(",
     "library": "var_list.r",
     "varRefreshCmd": "cat(var_dic_list()) "
    }
   },
   "types_to_exclude": [
    "module",
    "function",
    "builtin_function_or_method",
    "instance",
    "_Feature"
   ],
   "window_display": false
  }
 },
 "nbformat": 4,
 "nbformat_minor": 5
}
