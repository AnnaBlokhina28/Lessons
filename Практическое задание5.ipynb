{
 "cells": [
  {
   "cell_type": "markdown",
   "id": "4de2cf71",
   "metadata": {},
   "source": [
    "Задания:\n",
    "\n",
    "1.Напишите программу, удаляющую из текста все слова, содержащие \"\"абв\"\".\n",
    "2.Допишите функцию func так, чтоб в итоге получался список, содежащий суммы элеентов списков numbers1, numbers2, numbers3 поэлементно (то есть сумма нулевых, сумма первых, третих и тд)\n",
    "\n",
    "new_numbers = list(map(func, numbers1, numbers2, numbers3))\n",
    "3.Допишите функцию func так, чтоб в итоге получался список, содежащий положительные элементы списка numbers\n",
    "\n",
    "positive_numbers = list(filter(func, numbers))\n",
    "\n",
    "4.Напишите программу, которая с помощью встроенных функций filter(), map(), sorted() и reduce() выводит в алфавитном порядке список primary городов с населением более 10000000 человек, в формате: Cities: Beijing, Buenos Aires, ...\n",
    "from functools import reduce\n",
    "\n",
    "data = [['Tokyo', 35676000, 'primary'],\n",
    "\n",
    "    ['New York', 19354922, 'nan'],\n",
    "\n",
    "    ['Mexico City', 19028000, 'primary'],\n",
    "\n",
    "    ['Mumbai', 18978000, 'admin'],\n",
    "\n",
    "    ['Sao Paulo', 18845000, 'admin'],\n",
    "\n",
    "    ['Delhi', 15926000, 'admin'],\n",
    "\n",
    "    ['Shanghai', 14987000, 'admin'],\n",
    "\n",
    "    ['Kolkata', 14787000, 'admin'],\n",
    "\n",
    "    ['Los Angeles', 12815475, 'nan'],\n",
    "\n",
    "    ['Dhaka', 12797394, 'primary'],\n",
    "\n",
    "    ['Buenos Aires', 12795000, 'primary'],\n",
    "\n",
    "    ['Karachi', 12130000, 'admin'],\n",
    "\n",
    "    ['Cairo', 11893000, 'primary'],\n",
    "\n",
    "    ['Rio de Janeiro', 11748000, 'admin'],\n",
    "\n",
    "    ['Osaka', 11294000, 'admin'],\n",
    "\n",
    "    ['Beijing', 11106000, 'primary'],\n",
    "\n",
    "    ['Manila', 11100000, 'primary'],\n",
    "\n",
    "    ['Moscow', 10452000, 'primary'],\n",
    "\n",
    "    ['Istanbul', 10061000, 'admin'],\n",
    "\n",
    "    ['Paris', 9904000, 'primary']]"
   ]
  },
  {
   "cell_type": "code",
   "execution_count": 3,
   "id": "3ff58863",
   "metadata": {},
   "outputs": [
    {
     "data": {
      "text/plain": [
       "'фбв алкокат цлцотао fkfjfjfjf'"
      ]
     },
     "execution_count": 3,
     "metadata": {},
     "output_type": "execute_result"
    }
   ],
   "source": [
    "#1.Напишите программу, удаляющую из текста все слова, содержащие \"\"абв\"\".\n",
    "\n",
    "s = 'фбв алкокат цлцотао абвкккк абв fkfjfjfjf'\n",
    "t = (x for x in s.split() if 'абв' not in x)\n",
    "\" \".join(t)"
   ]
  },
  {
   "cell_type": "code",
   "execution_count": 24,
   "id": "54e958c3",
   "metadata": {},
   "outputs": [
    {
     "name": "stdout",
     "output_type": "stream",
     "text": [
      "Введите последовательность чисел:4 5 7 8\n",
      "Введите последовательность чисел:4 5 7 8\n",
      "Введите последовательность чисел: 4 1 2 5\n",
      "[12, 11, 16, 21]\n"
     ]
    }
   ],
   "source": [
    "#2.Допишите функцию func так, чтоб в итоге получался список, содежащий суммы элеентов списков numbers1, numbers2, numbers3 поэлементно (то есть сумма нулевых, сумма первых, третих и тд)\n",
    "\n",
    "Numbers1 = input(\"Введите последовательность чисел:\").split()\n",
    "Numbers2 = input(\"Введите последовательность чисел:\").split()\n",
    "Numbers3 = input(\"Введите последовательность чисел:\").split()\n",
    "\n",
    "numbers1 = [int(i) for i in Numbers1]\n",
    "numbers2 = [int(i) for i in Numbers2]\n",
    "numbers3 = [int(i) for i in Numbers3]\n",
    "def func(a,b,c):\n",
    "    return a+b+c\n",
    "\n",
    "new_numbers = list(map(func, numbers1, numbers2, numbers3))\n",
    "print(new_numbers)"
   ]
  },
  {
   "cell_type": "code",
   "execution_count": 17,
   "id": "f5832b5d",
   "metadata": {},
   "outputs": [
    {
     "name": "stdout",
     "output_type": "stream",
     "text": [
      "Введите последовательность чисел:54 7 -8 9 3 4 6 7\n"
     ]
    },
    {
     "data": {
      "text/plain": [
       "['54', '7', '9', '3', '4', '6', '7']"
      ]
     },
     "execution_count": 17,
     "metadata": {},
     "output_type": "execute_result"
    }
   ],
   "source": [
    "#3.Допишите функцию func так, чтоб в итоге получался список, содежащий положительные элементы списка numbers\n",
    "def func(a):\n",
    "    if int(a)>0:\n",
    "        return a\n",
    "numbers = input(\"Введите последовательность чисел:\").split()  \n",
    "positive_numbers = list(filter(func, numbers))\n",
    "positive_numbers"
   ]
  },
  {
   "cell_type": "code",
   "execution_count": 29,
   "id": "6e4ee5a1",
   "metadata": {},
   "outputs": [],
   "source": [
    "#4.Напишите программу, которая с помощью встроенных функций filter(), map(), sorted() и reduce() выводит в алфавитном порядке список primary городов с населением более 10000000 человек, в формате: Cities: Beijing, Buenos Aires, ...\n",
    "\n",
    "from functools import reduce\n",
    "\n",
    "data = [['Tokyo', 35676000, 'primary'],\n",
    "\n",
    "    ['New York', 19354922, 'nan'],\n",
    "\n",
    "    ['Mexico City', 19028000, 'primary'],\n",
    "\n",
    "    ['Mumbai', 18978000, 'admin'],\n",
    "\n",
    "    ['Sao Paulo', 18845000, 'admin'],\n",
    "\n",
    "    ['Delhi', 15926000, 'admin'],\n",
    "\n",
    "    ['Shanghai', 14987000, 'admin'],\n",
    "\n",
    "    ['Kolkata', 14787000, 'admin'],\n",
    "\n",
    "    ['Los Angeles', 12815475, 'nan'],\n",
    "\n",
    "    ['Dhaka', 12797394, 'primary'],\n",
    "\n",
    "    ['Buenos Aires', 12795000, 'primary'],\n",
    "\n",
    "    ['Karachi', 12130000, 'admin'],\n",
    "\n",
    "    ['Cairo', 11893000, 'primary'],\n",
    "\n",
    "    ['Rio de Janeiro', 11748000, 'admin'],\n",
    "\n",
    "    ['Osaka', 11294000, 'admin'],\n",
    "\n",
    "    ['Beijing', 11106000, 'primary'],\n",
    "\n",
    "    ['Manila', 11100000, 'primary'],\n",
    "\n",
    "    ['Moscow', 10452000, 'primary'],\n",
    "\n",
    "    ['Istanbul', 10061000, 'admin'],\n",
    "\n",
    "    ['Paris', 9904000, 'primary']]"
   ]
  },
  {
   "cell_type": "code",
   "execution_count": 35,
   "id": "956a9193",
   "metadata": {},
   "outputs": [
    {
     "name": "stdout",
     "output_type": "stream",
     "text": [
      "Beijing, Buenos Aires, Cairo, Delhi, Dhaka, Istanbul, Karachi, Kolkata, Los Angeles, Manila, Mexico City, Moscow, Mumbai, New York, Osaka, Rio de Janeiro, Sao Paulo, Shanghai, Tokyo\n"
     ]
    }
   ],
   "source": [
    "def func(a):\n",
    "    if a[1]>10000000:\n",
    "        return a\n",
    "data2 = list(filter(func, data))\n",
    "data2\n",
    "\n",
    "def func(a):\n",
    "    return a[0]\n",
    "data3 = list(map(func, data2))\n",
    "data4 = sorted(data3)\n",
    "data4\n",
    "print(*data4, sep=\", \")"
   ]
  },
  {
   "cell_type": "code",
   "execution_count": null,
   "id": "f36ece84",
   "metadata": {},
   "outputs": [],
   "source": []
  },
  {
   "cell_type": "code",
   "execution_count": null,
   "id": "9def097b",
   "metadata": {},
   "outputs": [],
   "source": []
  }
 ],
 "metadata": {
  "hide_input": false,
  "kernelspec": {
   "display_name": "Python 3 (ipykernel)",
   "language": "python",
   "name": "python3"
  },
  "language_info": {
   "codemirror_mode": {
    "name": "ipython",
    "version": 3
   },
   "file_extension": ".py",
   "mimetype": "text/x-python",
   "name": "python",
   "nbconvert_exporter": "python",
   "pygments_lexer": "ipython3",
   "version": "3.9.2"
  },
  "toc": {
   "base_numbering": 1,
   "nav_menu": {},
   "number_sections": true,
   "sideBar": true,
   "skip_h1_title": false,
   "title_cell": "Table of Contents",
   "title_sidebar": "Contents",
   "toc_cell": false,
   "toc_position": {},
   "toc_section_display": true,
   "toc_window_display": false
  },
  "varInspector": {
   "cols": {
    "lenName": 16,
    "lenType": 16,
    "lenVar": 40
   },
   "kernels_config": {
    "python": {
     "delete_cmd_postfix": "",
     "delete_cmd_prefix": "del ",
     "library": "var_list.py",
     "varRefreshCmd": "print(var_dic_list())"
    },
    "r": {
     "delete_cmd_postfix": ") ",
     "delete_cmd_prefix": "rm(",
     "library": "var_list.r",
     "varRefreshCmd": "cat(var_dic_list()) "
    }
   },
   "types_to_exclude": [
    "module",
    "function",
    "builtin_function_or_method",
    "instance",
    "_Feature"
   ],
   "window_display": false
  }
 },
 "nbformat": 4,
 "nbformat_minor": 5
}
