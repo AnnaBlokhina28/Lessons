{
 "cells": [
  {
   "cell_type": "markdown",
   "id": "19359744",
   "metadata": {},
   "source": [
    "Урок 9. Возможна ли жизнь без PIP?\n",
    "Прикрутить бота к задачам с предыдущего семинара: Создать телефонный справочник с возможностью импорта и экспорта данных в нескольких форматах. То есть данные о пользователях отправляются боту в сообщениях, а в результате сохраняются в csv.\n",
    "Материалы в помощь: https://habr.com/ru/post/580408/ https://xakep.ru/2021/11/28/python-telegram-bots/#toc02."
   ]
  },
  {
   "cell_type": "code",
   "execution_count": null,
   "id": "1619faee",
   "metadata": {},
   "outputs": [],
   "source": [
    "import telebot\n",
    "from telebot import types\n",
    "import tk\n",
    "\n",
    "bot = telebot.TeleBot(tk.Token)\n",
    "\n",
    "def add_to_phone_book(text, file = \"phone_book.csv\", splitter = \";\"):\n",
    "    text = text.split(\" \");\n",
    "    with open(file, \"a\") as phone_book:\n",
    "        phone_book.write (splitter.join(text))\n",
    "        phone_book.write (\"\\n\")\n",
    "    return \"Данные добавлены\"\n",
    "\n",
    "def get_users_list(phone_book = \"phone_book.csv\"):\n",
    "    k = [\"Number\", \"Surname\", \"Name\"]\n",
    "    list_phone_book = []\n",
    "    with open(phone_book, \"r\") as us:\n",
    "        for i in us:\n",
    "            u = i.split(\";\")\n",
    "            user = {}\n",
    "            for j in range(3):\n",
    "                user[k[j]]=u[j].replace(\"\\n\",\"\").replace(\"\\t\",\"\")\n",
    "            list_phone_book.append(user)\n",
    "    return list_phone_book\n",
    "\n",
    "def Search(phone_book, name):\n",
    "    parameter = \"\"\n",
    "    if name.isdigit():\n",
    "        parameter = \"Number\"\n",
    "    elif \" \" in name:\n",
    "        parameter = \"SN\"\n",
    "    else:\n",
    "        parameter = \"Surname\"\n",
    "    \n",
    "    if parameter == \"SN\":\n",
    "        return [user for user in phone_book if name in user[\"Surname\"] + \" \" + user[\"Name\"]]\n",
    "    else:\n",
    "        return [user for user in phone_book if name in user[parameter]]\n",
    "    \n",
    "    \n",
    "\n",
    "@bot.message_handler(commands=[\"start\"])\n",
    "def start(message, res=False):\n",
    "    bot.send_message(message.chat.id, 'Привет! Напиши: \\n - /search, чтобы найти контакт \\n - /add добавить контакт')\n",
    "\n",
    "    \n",
    "@bot.message_handler(commands=[\"add\"])    \n",
    "def start_add(message, res=False):\n",
    "    bot.send_message(message.chat.id, 'Введите телефон, фамилию и имя')\n",
    "@bot.message_handler(commands=[\"search\"])    \n",
    "def start_search(message, res=False):\n",
    "    bot.send_message(message.chat.id, 'Введите фамилию и имя')    \n",
    "    \n",
    "@bot.message_handler(content_types=[\"text\"])\n",
    "def handle_text(message):\n",
    "    # Если юзер нажал кнопку Добавить контакт в справочник\n",
    "    if len(message.text.split()) == 2:\n",
    "        user = Search(get_users_list(), message.text)[0]\n",
    "        result = str(user[\"Surname\"]) + \" \" + str(user[\"Name\"]) + \" ( \" + str(user[\"Number\"]) + \" )\"\n",
    "        bot.send_message(message.chat.id, result)\n",
    "    elif len(message.text.split()) == 3:\n",
    "        bot.send_message(message.chat.id, add_to_phone_book(message.text))\n",
    "    else:\n",
    "        bot.send_message(message.chat.id, 'Некорректные данные')\n",
    "    \n",
    "bot.polling(none_stop=True, interval=0)"
   ]
  }
 ],
 "metadata": {
  "hide_input": false,
  "kernelspec": {
   "display_name": "Python 3 (ipykernel)",
   "language": "python",
   "name": "python3"
  },
  "language_info": {
   "codemirror_mode": {
    "name": "ipython",
    "version": 3
   },
   "file_extension": ".py",
   "mimetype": "text/x-python",
   "name": "python",
   "nbconvert_exporter": "python",
   "pygments_lexer": "ipython3",
   "version": "3.9.2"
  },
  "toc": {
   "base_numbering": 1,
   "nav_menu": {},
   "number_sections": true,
   "sideBar": true,
   "skip_h1_title": false,
   "title_cell": "Table of Contents",
   "title_sidebar": "Contents",
   "toc_cell": false,
   "toc_position": {},
   "toc_section_display": true,
   "toc_window_display": false
  },
  "varInspector": {
   "cols": {
    "lenName": 16,
    "lenType": 16,
    "lenVar": 40
   },
   "kernels_config": {
    "python": {
     "delete_cmd_postfix": "",
     "delete_cmd_prefix": "del ",
     "library": "var_list.py",
     "varRefreshCmd": "print(var_dic_list())"
    },
    "r": {
     "delete_cmd_postfix": ") ",
     "delete_cmd_prefix": "rm(",
     "library": "var_list.r",
     "varRefreshCmd": "cat(var_dic_list()) "
    }
   },
   "types_to_exclude": [
    "module",
    "function",
    "builtin_function_or_method",
    "instance",
    "_Feature"
   ],
   "window_display": false
  }
 },
 "nbformat": 4,
 "nbformat_minor": 5
}
