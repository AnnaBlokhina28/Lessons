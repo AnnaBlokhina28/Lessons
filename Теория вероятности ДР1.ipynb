{
 "cells": [
  {
   "cell_type": "markdown",
   "id": "22f37d11",
   "metadata": {},
   "source": [
    "Урок 1. Расчет вероятности случайных событий\n",
    "Условие:\n",
    "\n",
    "Из колоды в 52 карты извлекаются случайным образом 4 карты. a) Найти вероятность того, что все карты – крести.\n",
    "б) Найти вероятность, что среди 4-х карт окажется хотя бы один туз.\n",
    "На входной двери подъезда установлен кодовый замок, содержащий десять кнопок с цифрами от 0 до 9. \n",
    "Код содержит три цифры, которые нужно нажать одновременно. Какова вероятность того, что человек, не знающий код,\n",
    "откроет дверь с первой попытки?\n",
    "В ящике имеется 15 деталей, из которых 9 окрашены. Рабочий случайным образом извлекает\n",
    "3 детали. Какова вероятность того, что все извлеченные детали окрашены?\n",
    "В лотерее 100 билетов. Из них 2 выигрышных. Какова вероятность того, что 2 приобретенных билета окажутся выигрышными?"
   ]
  },
  {
   "cell_type": "code",
   "execution_count": 2,
   "id": "6c06296b",
   "metadata": {},
   "outputs": [],
   "source": [
    "import itertools"
   ]
  },
  {
   "cell_type": "code",
   "execution_count": 3,
   "id": "c1174fd0",
   "metadata": {},
   "outputs": [],
   "source": [
    "from itertools import combinations"
   ]
  },
  {
   "cell_type": "code",
   "execution_count": 4,
   "id": "b6ed2d85",
   "metadata": {},
   "outputs": [
    {
     "name": "stdout",
     "output_type": "stream",
     "text": [
      "270725\n",
      "715\n",
      "Ответ P(A)=0.0026410564225690276\n"
     ]
    }
   ],
   "source": [
    "'''Из колоды в 52 карты извлекаются случайным образом 4 карты. a) Найти вероятность того, что все карты – крести.\n",
    "\n",
    "P(A) = M/N, N = C(52;4), M = C(13;4)*С(39;0)'''\n",
    "\n",
    "def C(n, k):\n",
    "    return len(list(itertools.combinations(range(1, n+1), k)))\n",
    "N = C(52, 4)\n",
    "print(N)\n",
    "\n",
    "M = C(13,4)*C(39, 0)\n",
    "print(M)\n",
    "\n",
    "P = M/N\n",
    "print(f\"Ответ P(A)={P}\")"
   ]
  },
  {
   "cell_type": "code",
   "execution_count": 5,
   "id": "9eca76fc",
   "metadata": {},
   "outputs": [
    {
     "name": "stdout",
     "output_type": "stream",
     "text": [
      "270725\n",
      "194580\n",
      "P(notB)=0.7187367254594146\n",
      "Ответ P(B)=0.2812632745405854\n"
     ]
    }
   ],
   "source": [
    "'''Из колоды в 52 карты извлекаются случайным образом 4 карты. б) Найти вероятность, что среди \n",
    "4-х карт окажется хотя бы один туз \n",
    "\n",
    "P(notB) = M/N, N = C(52;4), M = C(48,4) - комбиации, где совсем нет тузов, P(B) = 1-P(notB) '''\n",
    "\n",
    "N = C(52, 4)\n",
    "print(N)\n",
    "\n",
    "M = C(48,4)\n",
    "print(M)\n",
    "\n",
    "PnotB = M/N\n",
    "print(f\"P(notB)={PnotB}\")\n",
    "\n",
    "PB = 1-PnotB\n",
    "print(f\"Ответ P(B)={PB}\")"
   ]
  },
  {
   "cell_type": "code",
   "execution_count": 8,
   "id": "0902cb4b",
   "metadata": {},
   "outputs": [
    {
     "name": "stdout",
     "output_type": "stream",
     "text": [
      "120\n",
      "Ответ P(A)=0.008333333333333333\n"
     ]
    }
   ],
   "source": [
    "'''На входной двери подъезда установлен кодовый замок, содержащий десять кнопок с цифрами от 0 до 9. \n",
    "Код содержит три цифры, которые нужно нажать одновременно. Какова вероятность того, что человек, не знающий код,\n",
    "откроет дверь с первой попытки?\n",
    "\n",
    "P(A) - открылась дверь, P(A) = M/N\n",
    "Нужно 3 цифры нажать значит участвуют не все цифры, их нужно нажать одновременно, тоесть порядок не важен,\n",
    "используем формулу сочетания! N = C(10;3), M = 1(из условия задачи 1-о сочетание благоприятное, так как 1 попытка)'''\n",
    "\n",
    "def C1(n, k):\n",
    "    return len(list(itertools.combinations(range(0, n+1), k)))\n",
    "\n",
    "N = C1(9, 3)\n",
    "print(N)\n",
    "\n",
    "M = 1\n",
    "\n",
    "P = M/N\n",
    "print(f\"Ответ P(A)={P}\")\n"
   ]
  },
  {
   "cell_type": "code",
   "execution_count": 6,
   "id": "963d3bea",
   "metadata": {},
   "outputs": [
    {
     "name": "stdout",
     "output_type": "stream",
     "text": [
      "455\n",
      "20\n",
      "Ответ P(A)=0.04395604395604396\n"
     ]
    }
   ],
   "source": [
    "'''В ящике имеется 15 деталей, из которых 9 окрашены. Рабочий случайным образом извлекает\n",
    "3 детали. Какова вероятность того, что все извлеченные детали окрашены?\n",
    "\n",
    "P(A) = M/N, N = C(15;3), M = C(6;3)*С(9;0)'''\n",
    "\n",
    "N = C(15, 3)\n",
    "print(N)\n",
    "\n",
    "M = C(6,3)*C(9, 0)\n",
    "print(M)\n",
    "\n",
    "P = M/N\n",
    "print(f\"Ответ P(A)={P}\")"
   ]
  },
  {
   "cell_type": "code",
   "execution_count": 7,
   "id": "3c63fba6",
   "metadata": {},
   "outputs": [
    {
     "name": "stdout",
     "output_type": "stream",
     "text": [
      "4950\n",
      "Ответ P(A)=0.00020202020202020202\n"
     ]
    }
   ],
   "source": [
    "'''В лотерее 100 билетов. Из них 2 выигрышных. Какова вероятность того, \n",
    "что 2 приобретенных билета окажутся выигрышными?\n",
    "\n",
    "P(A)-2-a приобретенных билета выйграшные\n",
    "P(A) = M/N, N = C(100;2), M = C(2;2)*С(98;0), т.е = 1'''\n",
    "\n",
    "N = C(100, 2)\n",
    "print(N)\n",
    "\n",
    "M = 1\n",
    "\n",
    "P = M/N\n",
    "print(f\"Ответ P(A)={P}\")\n"
   ]
  },
  {
   "cell_type": "code",
   "execution_count": null,
   "id": "a653f500",
   "metadata": {},
   "outputs": [],
   "source": []
  }
 ],
 "metadata": {
  "hide_input": false,
  "kernelspec": {
   "display_name": "Python 3 (ipykernel)",
   "language": "python",
   "name": "python3"
  },
  "language_info": {
   "codemirror_mode": {
    "name": "ipython",
    "version": 3
   },
   "file_extension": ".py",
   "mimetype": "text/x-python",
   "name": "python",
   "nbconvert_exporter": "python",
   "pygments_lexer": "ipython3",
   "version": "3.9.2"
  },
  "toc": {
   "base_numbering": 1,
   "nav_menu": {},
   "number_sections": true,
   "sideBar": true,
   "skip_h1_title": false,
   "title_cell": "Table of Contents",
   "title_sidebar": "Contents",
   "toc_cell": false,
   "toc_position": {},
   "toc_section_display": true,
   "toc_window_display": false
  },
  "varInspector": {
   "cols": {
    "lenName": 16,
    "lenType": 16,
    "lenVar": 40
   },
   "kernels_config": {
    "python": {
     "delete_cmd_postfix": "",
     "delete_cmd_prefix": "del ",
     "library": "var_list.py",
     "varRefreshCmd": "print(var_dic_list())"
    },
    "r": {
     "delete_cmd_postfix": ") ",
     "delete_cmd_prefix": "rm(",
     "library": "var_list.r",
     "varRefreshCmd": "cat(var_dic_list()) "
    }
   },
   "types_to_exclude": [
    "module",
    "function",
    "builtin_function_or_method",
    "instance",
    "_Feature"
   ],
   "window_display": false
  }
 },
 "nbformat": 4,
 "nbformat_minor": 5
}
