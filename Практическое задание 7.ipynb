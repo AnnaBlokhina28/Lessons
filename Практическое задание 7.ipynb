{
 "cells": [
  {
   "cell_type": "markdown",
   "id": "b8f1c057",
   "metadata": {},
   "source": [
    "Создать телефонный справочник с возможностью импорта и экспорта данных в нескольких форматах.\n",
    "\n",
    "Как можно вводить данные?\n",
    "На семинаре: формат строки\n",
    "ДЗ: txt или csv\n",
    "Как их обрабатывать? Где хранить?\n",
    "На семинаре: список\n",
    "ДЗ: список словарей или другая структура\n",
    "Как запрашивать и получать данные?\n",
    "Какие функции можно для этого создать?\n",
    "Как вынести функции в модули?"
   ]
  },
  {
   "cell_type": "code",
   "execution_count": 1,
   "id": "a2138902",
   "metadata": {},
   "outputs": [
    {
     "name": "stdout",
     "output_type": "stream",
     "text": [
      "Номер телефона: +79042358965\n",
      "Фамилия: Фомина\n",
      "Имя: Диана\n",
      "+79042358965 Фомина Диана\n",
      "Добавлено в адресную книгу\n"
     ]
    }
   ],
   "source": [
    "phone_book = []\n",
    "\n",
    "Tel = (input(\"Номер телефона: \"))\n",
    "Sur = (input(\"Фамилия: \"))\n",
    "Name = (input(\"Имя: \"))\n",
    "phone_book = Tel + \" \" + Sur + \" \" + Name\n",
    "\n",
    "print(phone_book)\n",
    "with open(\"telephone directory.txt\", \"a\") as data:\n",
    "    data.write (phone_book)\n",
    "    data.write (\"\\n\")\n",
    "    \n",
    "print(\"Добавлено в адресную книгу\")"
   ]
  },
  {
   "cell_type": "code",
   "execution_count": 2,
   "id": "8969d042",
   "metadata": {},
   "outputs": [],
   "source": [
    "def get_users_list(telephone_directory = \"telephone directory.txt\"):\n",
    "    k = [\"Number\", \"Surname\", \"Name\"]\n",
    "    list_phone_book = []\n",
    "    with open(telephone_directory, \"r\") as us:\n",
    "        for i in us:\n",
    "            u = i.split()\n",
    "            user = {}\n",
    "            for j in range(3):\n",
    "                user[k[j]]=u[j]\n",
    "            list_phone_book.append(user)\n",
    "    return list_phone_book"
   ]
  },
  {
   "cell_type": "code",
   "execution_count": 3,
   "id": "33d23828",
   "metadata": {},
   "outputs": [],
   "source": [
    "def Search(a, S):\n",
    "    parameter = \"\"\n",
    "    if S.isdigit():\n",
    "        parameter = \"Number\"\n",
    "    elif \" \" in S:\n",
    "        parameter = \"SN\"\n",
    "    else:\n",
    "        parameter = \"Surname\"\n",
    "    \n",
    "    if parameter == \"SN\":\n",
    "        return [user for user in a if S in user[\"Surname\"] + \" \" + user[\"Name\"]]\n",
    "    else:\n",
    "        return [user for user in a if S in user[parameter]]"
   ]
  },
  {
   "cell_type": "code",
   "execution_count": 4,
   "id": "cbc4789a",
   "metadata": {},
   "outputs": [
    {
     "name": "stdout",
     "output_type": "stream",
     "text": [
      "Введите данные для поиска(Фамилию, имя или телефон:)Семенова\n"
     ]
    },
    {
     "data": {
      "text/plain": [
       "[{'Number': '+79653251478', 'Surname': 'Семенова', 'Name': 'Лариса'}]"
      ]
     },
     "execution_count": 4,
     "metadata": {},
     "output_type": "execute_result"
    }
   ],
   "source": [
    "S = input(\"Введите данные для поиска(Фамилию, имя или телефон:)\")\n",
    "Search(get_users_list(), S)"
   ]
  },
  {
   "cell_type": "code",
   "execution_count": 6,
   "id": "cf71bc8e",
   "metadata": {},
   "outputs": [
    {
     "name": "stdout",
     "output_type": "stream",
     "text": [
      "Задайте арифметическое выражения, используйте операции +,-,/,*: 45-2*3\n",
      "39\n"
     ]
    }
   ],
   "source": [
    "A = input(\"Задайте арифметическое выражения, используйте операции +,-,/,*: \")\n",
    "\n",
    "#Подготовка данных\n",
    "if not \" \" in A: \n",
    "    A = A.strip().replace(\"+\", \" + \").replace(\"-\", \" - \").replace(\"*\", \" * \").replace(\"/\", \" / \")\n",
    "else:\n",
    "    A = A.strip().replace(\" \", \"\").replace(\"+\", \" + \").replace(\"-\", \" - \").replace(\"*\", \" * \").replace(\"/\", \" / \")\n",
    "    \n",
    "exec('print(' + A + ')')"
   ]
  }
 ],
 "metadata": {
  "hide_input": false,
  "kernelspec": {
   "display_name": "Python 3 (ipykernel)",
   "language": "python",
   "name": "python3"
  },
  "language_info": {
   "codemirror_mode": {
    "name": "ipython",
    "version": 3
   },
   "file_extension": ".py",
   "mimetype": "text/x-python",
   "name": "python",
   "nbconvert_exporter": "python",
   "pygments_lexer": "ipython3",
   "version": "3.9.2"
  },
  "toc": {
   "base_numbering": 1,
   "nav_menu": {},
   "number_sections": true,
   "sideBar": true,
   "skip_h1_title": false,
   "title_cell": "Table of Contents",
   "title_sidebar": "Contents",
   "toc_cell": false,
   "toc_position": {},
   "toc_section_display": true,
   "toc_window_display": false
  },
  "varInspector": {
   "cols": {
    "lenName": 16,
    "lenType": 16,
    "lenVar": 40
   },
   "kernels_config": {
    "python": {
     "delete_cmd_postfix": "",
     "delete_cmd_prefix": "del ",
     "library": "var_list.py",
     "varRefreshCmd": "print(var_dic_list())"
    },
    "r": {
     "delete_cmd_postfix": ") ",
     "delete_cmd_prefix": "rm(",
     "library": "var_list.r",
     "varRefreshCmd": "cat(var_dic_list()) "
    }
   },
   "types_to_exclude": [
    "module",
    "function",
    "builtin_function_or_method",
    "instance",
    "_Feature"
   ],
   "window_display": false
  }
 },
 "nbformat": 4,
 "nbformat_minor": 5
}
