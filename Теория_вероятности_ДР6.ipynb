{
 "cells": [
  {
   "cell_type": "markdown",
   "id": "19e42691",
   "metadata": {},
   "source": [
    "<font color=\"#56a7cf\"><h1><b>Урок 6. Сравнение долей. Построение доверительного интервала</b></h1></font>"
   ]
  },
  {
   "cell_type": "markdown",
   "id": "819554b3",
   "metadata": {},
   "source": [
    "<font color=\"#56a7cf\"><h2><b>Формулы</b></h2></font>"
   ]
  },
  {
   "cell_type": "code",
   "execution_count": 1,
   "id": "4053fd21",
   "metadata": {},
   "outputs": [],
   "source": [
    "import warnings\n",
    "import pandas as pd\n",
    "import numpy as np\n",
    "import scipy.stats as stats\n",
    "import math"
   ]
  },
  {
   "cell_type": "markdown",
   "id": "05505320",
   "metadata": {},
   "source": [
    "<font color=\"#56a7cf\"><h2><b>Задача 1</b></h2></font>\n",
    "\n",
    "Известно, что генеральная совокупность распределена нормально\n",
    "со средним квадратическим отклонением, равным 16.\n",
    "Найти доверительный интервал для оценки математического ожидания a с надежностью\n",
    "0.95,\n",
    "если выборочная средняя M = 80, а объем выборки n = 256.\n",
    "\n",
    "Решение:Используем формулу для нахождения интервала оценки среднего(так как среднее и математическое ожедание в нормальном распрделении равны), через Z-критерий, так как сигма ген. совокупности известна: mean+-Zalpha/2*sigma/n**0.5"
   ]
  },
  {
   "cell_type": "code",
   "execution_count": 2,
   "id": "df5427d9",
   "metadata": {},
   "outputs": [
    {
     "name": "stdout",
     "output_type": "stream",
     "text": [
      "-1.9599639845400545\n",
      "Ответ:Доверительный интервал для оценки математического ожидания - (78.04003601545995 ; 81.95996398454005)\n"
     ]
    }
   ],
   "source": [
    "sigma = 16\n",
    "n=256\n",
    "alpha = 0.05\n",
    "mean = 80\n",
    "Z = stats.norm.ppf(alpha/2)\n",
    "print(Z)\n",
    "x1 = mean -(Z*(sigma/n**0.5))\n",
    "x2 = mean +(Z*(sigma/n**0.5))\n",
    "print( f'Ответ:Доверительный интервал для оценки математического ожидания - ({x2} ; {x1})')"
   ]
  },
  {
   "cell_type": "markdown",
   "id": "515debb9",
   "metadata": {},
   "source": [
    "<font color=\"#56a7cf\"><h2><b>Задача 2</b></h2></font>\n",
    "\n",
    "В результате 10 независимых измерений некоторой величины X, выполненных с\n",
    "одинаковой точностью, получены опытные данные:\n",
    "6.9, 6.1, 6.2, 6.8, 7.5, 6.3, 6.4, 6.9, 6.7, 6.1\n",
    "Предполагая, что результаты измерений подчинены нормальному закону распределения\n",
    "вероятностей, оценить истинное значение величины X при помощи доверительного интервала,\n",
    "покрывающего это значение с доверительной вероятностью 0,95.\n",
    "\n",
    "Решение:Используем формулу для нахождения интервала оценки среднего, через t-критерий: mean+-talpha/2*sigma/n**0.5\n",
    "так как сигма ген. совокупности не известна, вычислим из выборки:"
   ]
  },
  {
   "cell_type": "code",
   "execution_count": 3,
   "id": "5436126d",
   "metadata": {},
   "outputs": [
    {
     "name": "stdout",
     "output_type": "stream",
     "text": [
      "6.590000000000001\n",
      "0.2032222222222223\n",
      "-2.262157162740992\n",
      "Ответ:Доверительный интервал для оценки истинного значения величины X - (6.267515851415713 ; 6.912484148584288)\n"
     ]
    }
   ],
   "source": [
    "X = np.array([6.9, 6.1, 6.2, 6.8, 7.5, 6.3, 6.4, 6.9, 6.7, 6.1])\n",
    "n = len(X)\n",
    "alpha = 0.05\n",
    "meanX = X.mean()\n",
    "D = X.var(ddof=1)\n",
    "sigma = D**0.5\n",
    "t = stats.t.ppf(alpha/2, df=n-1)\n",
    "x1 = meanX -(t*(sigma/n**0.5))\n",
    "x2 = meanX +(t*(sigma/n**0.5))\n",
    "print(meanX)\n",
    "print(D)\n",
    "print(t)\n",
    "print( f'Ответ:Доверительный интервал для оценки истинного значения величины X - ({x2} ; {x1})')"
   ]
  },
  {
   "cell_type": "markdown",
   "id": "b1effe0f",
   "metadata": {},
   "source": [
    "<font color=\"#56a7cf\"><h2><b>Задача 3</b></h2></font>\n",
    "\n",
    "Рост дочерей 175, 167, 154, 174, 178, 148, 160, 167, 169, 170\n",
    "Рост матерей 178, 165, 165, 173, 168, 155, 160, 164, 178, 175\n",
    "\n",
    "Используя эти данные построить 95% доверительный интервал для разности среднего\n",
    "роста родителей и детей.\n",
    "\n",
    "Решение:Используем формулы   \n",
    "Δ ± 𝑡𝛼/2∗ 𝑆Δ , где Δ = 𝑋1 − 𝑋2\n",
    "𝐷 =1/2(𝐷1 + 𝐷2), где 𝐷1и 𝐷2 – дисперсии обеих групп\n",
    "𝑆Δ =(𝐷/𝑛1+𝐷/𝑛2)**0,5, где 𝑛1 и 𝑛2 – объемы выборок.\n",
    "𝑑𝑓 = 2 ∗ (𝑛 − 1), где n- объем выборки"
   ]
  },
  {
   "cell_type": "code",
   "execution_count": 4,
   "id": "8038c5c8",
   "metadata": {},
   "outputs": [
    {
     "name": "stdout",
     "output_type": "stream",
     "text": [
      "1.9000000000000057\n",
      "75.58333333333334\n",
      "3.8880157750022915\n",
      "-2.10092204024096\n",
      "Ответ:Доверительный интервал для разности среднего роста родителей и детей - (-6.268418034506846 ; 10.068418034506857)\n"
     ]
    }
   ],
   "source": [
    "mothers = np.array([178, 165, 165, 173, 168, 155, 160, 164, 178, 175])\n",
    "daughters = np.array([175, 167, 154, 174, 178, 148, 160, 167, 169, 170])\n",
    "n1 = len(mothers)\n",
    "n2 = len(daughters)\n",
    "#найдем среднии значения выборок X1 и X2 и Δ\n",
    "X1 = mothers.mean()\n",
    "X2 = daughters.mean()\n",
    "Delta = X1-X2\n",
    "print(Delta)\n",
    "#найдем несмещенную дисперсию обеих выборок, а затем D-общее\n",
    "D1 = mothers.var(ddof=1)\n",
    "D2 = daughters.var(ddof=1)\n",
    "D = (D1+D2)/2\n",
    "print(D)\n",
    "#найдем 𝑆Δ\n",
    "S = ((D/n1)+(D/n2))**0.5\n",
    "print(S)\n",
    "t = stats.t.ppf(alpha/2, df=2*(n1-1))\n",
    "print(t)\n",
    "#найдем доверительный интервал для разности среднего роста родителей и детей\n",
    "x1=Delta-(t*S)\n",
    "x2=Delta+(t*S)\n",
    "print( f'Ответ:Доверительный интервал для разности среднего роста родителей и детей - ({x2} ; {x1})')"
   ]
  }
 ],
 "metadata": {
  "hide_input": false,
  "kernelspec": {
   "display_name": "Python 3 (ipykernel)",
   "language": "python",
   "name": "python3"
  },
  "language_info": {
   "codemirror_mode": {
    "name": "ipython",
    "version": 3
   },
   "file_extension": ".py",
   "mimetype": "text/x-python",
   "name": "python",
   "nbconvert_exporter": "python",
   "pygments_lexer": "ipython3",
   "version": "3.9.2"
  },
  "toc": {
   "base_numbering": 1,
   "nav_menu": {},
   "number_sections": false,
   "sideBar": true,
   "skip_h1_title": false,
   "title_cell": "Table of Contents",
   "title_sidebar": "Contents",
   "toc_cell": false,
   "toc_position": {},
   "toc_section_display": true,
   "toc_window_display": true
  },
  "varInspector": {
   "cols": {
    "lenName": 16,
    "lenType": 16,
    "lenVar": 40
   },
   "kernels_config": {
    "python": {
     "delete_cmd_postfix": "",
     "delete_cmd_prefix": "del ",
     "library": "var_list.py",
     "varRefreshCmd": "print(var_dic_list())"
    },
    "r": {
     "delete_cmd_postfix": ") ",
     "delete_cmd_prefix": "rm(",
     "library": "var_list.r",
     "varRefreshCmd": "cat(var_dic_list()) "
    }
   },
   "types_to_exclude": [
    "module",
    "function",
    "builtin_function_or_method",
    "instance",
    "_Feature"
   ],
   "window_display": false
  }
 },
 "nbformat": 4,
 "nbformat_minor": 5
}
